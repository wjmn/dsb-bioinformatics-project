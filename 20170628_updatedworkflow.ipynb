{
 "cells": [
  {
   "cell_type": "markdown",
   "metadata": {},
   "source": [
    "# Updated Workfow"
   ]
  },
  {
   "cell_type": "markdown",
   "metadata": {},
   "source": [
    "Following from the draft workflow, I will now define several functions and generic scripts that will help segregate the input/output and the actual functions."
   ]
  },
  {
   "cell_type": "code",
   "execution_count": 15,
   "metadata": {},
   "outputs": [],
   "source": [
    "from pybedtools import BedTool # Note this requires bedtools\n",
    "from glob import glob\n",
    "import os\n",
    "import pandas as pd\n",
    "import numpy as np"
   ]
  },
  {
   "cell_type": "code",
   "execution_count": 2,
   "metadata": {},
   "outputs": [
    {
     "data": {
      "text/plain": [
       "'/home/work2017/Documents/Jamin'"
      ]
     },
     "execution_count": 2,
     "metadata": {},
     "output_type": "execute_result"
    }
   ],
   "source": [
    "# Ensure at top-level directory\n",
    "os.chdir(\"../\")\n",
    "os.getcwd()"
   ]
  },
  {
   "cell_type": "markdown",
   "metadata": {},
   "source": [
    "# Preprocessing in Bash"
   ]
  },
  {
   "cell_type": "markdown",
   "metadata": {},
   "source": [
    "## liftOver"
   ]
  },
  {
   "cell_type": "code",
   "execution_count": 7,
   "metadata": {},
   "outputs": [
    {
     "name": "stdout",
     "output_type": "stream",
     "text": [
      "/home/work2017/Documents/Jamin/data/raw/marks/hg18\n"
     ]
    },
    {
     "name": "stderr",
     "output_type": "stream",
     "text": [
      "Reading liftover chains\n",
      "Mapping coordinates\n",
      "Reading liftover chains\n",
      "Mapping coordinates\n",
      "Reading liftover chains\n",
      "Mapping coordinates\n",
      "Reading liftover chains\n",
      "Mapping coordinates\n",
      "Reading liftover chains\n",
      "Mapping coordinates\n",
      "Reading liftover chains\n",
      "Mapping coordinates\n",
      "Reading liftover chains\n",
      "Mapping coordinates\n",
      "Reading liftover chains\n",
      "Mapping coordinates\n",
      "Reading liftover chains\n",
      "Mapping coordinates\n"
     ]
    }
   ],
   "source": [
    "%%bash\n",
    "\n",
    "\n",
    "# LIFTOVER FOR hg18 BED FILES -----------------------------------------------------------------------------\n",
    "cd data/raw/markers/hg18\n",
    "pwd\n",
    "\n",
    "dir_chain=../../liftOverchains/hg18ToHg38.over.chain\n",
    "dir_save=../../../preprocessed/markers_lifted/\n",
    "\n",
    "for filename in *.bed;\n",
    "do\n",
    "    liftOver $filename $dir_chain $dir_save${filename/.bed/_lifted.bed} $dir_save${filename/.bed/_lifted.err}\n",
    "done"
   ]
  },
  {
   "cell_type": "markdown",
   "metadata": {},
   "source": [
    "> NOTE: ensure to keep hg18 files and hg19 files separated..."
   ]
  },
  {
   "cell_type": "markdown",
   "metadata": {},
   "source": [
    "## Subsetting .maf Based on Clinical/Biospecimen Features"
   ]
  },
  {
   "cell_type": "markdown",
   "metadata": {},
   "source": [
    "> Still to be done"
   ]
  },
  {
   "cell_type": "markdown",
   "metadata": {},
   "source": [
    "## Converting .maf to .bed"
   ]
  },
  {
   "cell_type": "code",
   "execution_count": 10,
   "metadata": {},
   "outputs": [],
   "source": [
    "%%bash\n",
    "\n",
    "# Ensure data/ lies in your current directory\n",
    "cd data/raw/mutations/\n",
    "\n",
    "for filename in *.maf;\n",
    "do \n",
    "    cut -f 5-8 $filename \\\n",
    "    | awk 'NR >= 6 {print}' \\\n",
    "    | awk '$3 = $3 FS \".\" FS \".\"' \\\n",
    "    | sed s/\" \"/\"\\t\"/g \\\n",
    "    > ../../preprocessed/mutations_bed/${filename%.maf}.bed\n",
    "done"
   ]
  },
  {
   "cell_type": "markdown",
   "metadata": {},
   "source": [
    "# Populating the Blacklist for Filtering"
   ]
  },
  {
   "cell_type": "markdown",
   "metadata": {},
   "source": [
    "> Still to be done..."
   ]
  },
  {
   "cell_type": "markdown",
   "metadata": {},
   "source": [
    "# Intersection Function"
   ]
  },
  {
   "cell_type": "markdown",
   "metadata": {},
   "source": [
    "> Note that this incorporates the filter step within it as well."
   ]
  },
  {
   "cell_type": "code",
   "execution_count": 11,
   "metadata": {
    "collapsed": true
   },
   "outputs": [],
   "source": [
    "def bed_intersect(marker_bed, mutations_bed):\n",
    "    # INPUTS:\n",
    "    # marker_bed: BedTool object of the coordinates of the marker\n",
    "    # mutations_bed: BedTool object of the coordinates of the mutations\n",
    "    # OUTPUTS:\n",
    "    # A tuple consisting of:\n",
    "    # - fisher_test: object representing the output from bedtools fisher test (print to see)\n",
    "    # - prop_intersection: % of marker_bed that intersected with mutations_bed\n",
    "    # - intersect_bed: BedTool object of the intersections\n",
    "    \n",
    "    # Function set variables ------------------------------------------------------------------\n",
    "    dir_blacklist = \"data/raw/blacklists/\"\n",
    "    name_blacklist = \"hg38.blacklist.bed\"\n",
    "    \n",
    "    window_size = 1000 # size of windows around the points for intersection, if using window\n",
    "    \n",
    "    # Filtering -------------------------------------------------------------------------------\n",
    "    \n",
    "    # Produce blacklist BedTool instance\n",
    "    blacklist = BedTool(\"\".join([dir_blacklist, name_blacklist]))\n",
    "    \n",
    "    # Filter by subtracting blacklist from the original beds\n",
    "    filtered_marker_bed = marker_bed.subtract(blacklist)\n",
    "    filtered_mutations_bed = mutations_bed.subtract(blacklist)\n",
    "    \n",
    "    # Intersection ----------------------------------------------------------------------------\n",
    "    \n",
    "    # Intersection WITH WINDOW\n",
    "    # intersect_bed = filtered_marker.window(filtered_mutations_bed, w=window_size)\n",
    "    \n",
    "    # Intersection WITHOUT WINDOW\n",
    "    intersect_bed = filtered_marker.intersect(filtered_mutations_bed)\n",
    "    \n",
    "    # Statistics-------------------------------------------------------------------------------\n",
    "    \n",
    "    # Proportion of intersection\n",
    "    prop_intersection = intersect_bed.count() / filtered_marker_bed.count()\n",
    "    \n",
    "    # For Fisher's exact test\n",
    "    # Sorting first as bedtools documentations mentions that this is required\n",
    "    # NOTE: seems that this is sorted such that chr12 comes before chr 2 - is this a problem? \n",
    "    # It seems that even the bedtools original would have done this too...\n",
    "    sorted_marker_bed = filtered_marker_bed.sort()\n",
    "    sorted_mutations_bed = filtered_mutations_bed.sort()\n",
    "    fisher_test = sorted_marker_bed.fisher(sorted_mutations_bed, genome=\"hg38\")\n",
    "    \n",
    "    # Output ----------------------------------------------------------------------------------\n",
    "    \n",
    "    return fisher_test, prop_intersection, intersect_bed    "
   ]
  },
  {
   "cell_type": "markdown",
   "metadata": {},
   "source": [
    "There are some questions regarding the intersection that I have:\n",
    "\n",
    "1. There is the possibility of using the window, but it appears this greatly increases the number of intersections. I wonder if the region of $\\gamma$-H2AX is sufficient to include that of the mutations - is the window there in case of random shifts?\n",
    "2. Does strandedness matter? I'm inclined to think not since it doesn't make sense to me how phosphorylated H2AX could be strand-selective, but there are both positive and negative strands in the bed file so I'm not entirely sure what that means...But then from visual inspection of the mutation data, they all seem positive...\n",
    "3. There are some statistical tests already implemented in BedTools that might be useful: Fisher exact test seems most relevant, but the Jaccard statistics may be useful too. http://bedtools.readthedocs.io/en/latest/content/tools/fisher.html. I feel that unless there is some reason not to, this would not be a bad idea at the moment to use (at least until a better can be found)\n",
    "4. See the sorting comment in the code above."
   ]
  },
  {
   "cell_type": "markdown",
   "metadata": {},
   "source": [
    "# Python Scripts"
   ]
  },
  {
   "cell_type": "markdown",
   "metadata": {
    "collapsed": true
   },
   "source": [
    "At this stage, we have done our preprocessing (producing a new set of BED files that can be used directly from Python with `pybedtools`, and need to stitch things together with the function created above.\n",
    "\n",
    "The data we have preprocessed should be stored in the directories `data/preprocessed/marks_lifted` and `data/preprocessed/mutations_bed`. "
   ]
  },
  {
   "cell_type": "code",
   "execution_count": 25,
   "metadata": {},
   "outputs": [
    {
     "name": "stdout",
     "output_type": "stream",
     "text": [
      "data/preprocessed/markers_lifted/GSM628531_cd4_h2ax_2_lifted.bed\n"
     ]
    },
    {
     "ename": "NameError",
     "evalue": "name 'filtered_marker' is not defined",
     "output_type": "error",
     "traceback": [
      "\u001b[0;31m---------------------------------------------------------------------------\u001b[0m",
      "\u001b[0;31mNameError\u001b[0m                                 Traceback (most recent call last)",
      "\u001b[0;32m<ipython-input-25-eb505e1fe62d>\u001b[0m in \u001b[0;36m<module>\u001b[0;34m()\u001b[0m\n\u001b[1;32m     20\u001b[0m         \u001b[0mbed_marker\u001b[0m \u001b[0;34m=\u001b[0m \u001b[0mBedTool\u001b[0m\u001b[0;34m(\u001b[0m\u001b[0mfile_marker\u001b[0m\u001b[0;34m)\u001b[0m\u001b[0;34m\u001b[0m\u001b[0m\n\u001b[1;32m     21\u001b[0m         \u001b[0mbed_mutations\u001b[0m \u001b[0;34m=\u001b[0m \u001b[0mBedTool\u001b[0m\u001b[0;34m(\u001b[0m\u001b[0mfile_mutations\u001b[0m\u001b[0;34m)\u001b[0m\u001b[0;34m\u001b[0m\u001b[0m\n\u001b[0;32m---> 22\u001b[0;31m         \u001b[0mresults\u001b[0m \u001b[0;34m=\u001b[0m \u001b[0mbed_intersect\u001b[0m\u001b[0;34m(\u001b[0m\u001b[0mbed_marker\u001b[0m\u001b[0;34m,\u001b[0m \u001b[0mbed_mutations\u001b[0m\u001b[0;34m)\u001b[0m\u001b[0;34m\u001b[0m\u001b[0m\n\u001b[0m\u001b[1;32m     23\u001b[0m \u001b[0;34m\u001b[0m\u001b[0m\n\u001b[1;32m     24\u001b[0m         \u001b[0mfilename_marker\u001b[0m \u001b[0;34m=\u001b[0m \u001b[0mfile_marker\u001b[0m\u001b[0;34m.\u001b[0m\u001b[0mreplace\u001b[0m\u001b[0;34m(\u001b[0m\u001b[0mdir_markers\u001b[0m\u001b[0;34m,\u001b[0m \u001b[0;34m\"\"\u001b[0m\u001b[0;34m)\u001b[0m\u001b[0;34m\u001b[0m\u001b[0m\n",
      "\u001b[0;32m<ipython-input-11-47b27223c516>\u001b[0m in \u001b[0;36mbed_intersect\u001b[0;34m(marker_bed, mutations_bed)\u001b[0m\n\u001b[1;32m     30\u001b[0m \u001b[0;34m\u001b[0m\u001b[0m\n\u001b[1;32m     31\u001b[0m     \u001b[0;31m# Intersection WITHOUT WINDOW\u001b[0m\u001b[0;34m\u001b[0m\u001b[0;34m\u001b[0m\u001b[0m\n\u001b[0;32m---> 32\u001b[0;31m     \u001b[0mintersect_bed\u001b[0m \u001b[0;34m=\u001b[0m \u001b[0mfiltered_marker\u001b[0m\u001b[0;34m.\u001b[0m\u001b[0mintersect\u001b[0m\u001b[0;34m(\u001b[0m\u001b[0mfiltered_mutations_bed\u001b[0m\u001b[0;34m)\u001b[0m\u001b[0;34m\u001b[0m\u001b[0m\n\u001b[0m\u001b[1;32m     33\u001b[0m \u001b[0;34m\u001b[0m\u001b[0m\n\u001b[1;32m     34\u001b[0m     \u001b[0;31m# Statistics-------------------------------------------------------------------------------\u001b[0m\u001b[0;34m\u001b[0m\u001b[0;34m\u001b[0m\u001b[0m\n",
      "\u001b[0;31mNameError\u001b[0m: name 'filtered_marker' is not defined"
     ]
    }
   ],
   "source": [
    "# INPUT/OUTPUT\n",
    "\n",
    "dir_markers = \"data/preprocessed/markers_lifted/\"\n",
    "dir_mutations = \"data/preprocessed/mutations_bed/\"\n",
    "\n",
    "num_marker_files = sum(1 for file in glob(\"\".join([dir_markers, \"*.bed\"])))\n",
    "num_mutations_files = sum(1 for file in glob(\"\".join([dir_mutations, \"*.bed\"])))\n",
    "\n",
    "columns = [\"marker_file\", \"mutation_file\", \"fisher_stat\", \"prop_intersection\", \"intersect_bed\"]\n",
    "num_rows = num_marker_files * num_mutations_files\n",
    "\n",
    "agg_results = pd.DataFrame(np.nan, index=range(0, num_rows), columns=columns)\n",
    "\n",
    "count = 0\n",
    "\n",
    "# As always, need to be wary of the nested for loop...\n",
    "for file_marker in glob(\"\".join([dir_markers, \"*.bed\"])):\n",
    "    print(file_marker)\n",
    "    for file_mutations in glob(\"\".join([dir_mutations, \"*.bed\"])):\n",
    "        bed_marker = BedTool(file_marker)\n",
    "        bed_mutations = BedTool(file_mutations)\n",
    "        results = bed_intersect(bed_marker, bed_mutations)\n",
    "        \n",
    "        filename_marker = file_marker.replace(dir_markers, \"\")\n",
    "        filename_mutations = file_mutations.replace(dir_mutations, \"\")\n",
    "        \n",
    "        agg_results.iloc[count] = [filename_marker, filename_mutations, results(0).two_tail, results(1), results(2)]"
   ]
  },
  {
   "cell_type": "code",
   "execution_count": null,
   "metadata": {
    "collapsed": true
   },
   "outputs": [],
   "source": []
  }
 ],
 "metadata": {
  "kernelspec": {
   "display_name": "Python 3",
   "language": "python",
   "name": "python3"
  },
  "language_info": {
   "codemirror_mode": {
    "name": "ipython",
    "version": 3
   },
   "file_extension": ".py",
   "mimetype": "text/x-python",
   "name": "python",
   "nbconvert_exporter": "python",
   "pygments_lexer": "ipython3",
   "version": "3.6.1"
  }
 },
 "nbformat": 4,
 "nbformat_minor": 2
}
