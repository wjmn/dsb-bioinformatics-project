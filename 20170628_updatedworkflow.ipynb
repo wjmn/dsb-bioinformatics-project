{
 "cells": [
  {
   "cell_type": "markdown",
   "metadata": {},
   "source": [
    "# Updated Workfow"
   ]
  },
  {
   "cell_type": "markdown",
   "metadata": {},
   "source": [
    "Following from the draft workflow, I will now define several functions and generic scripts that will help segregate the input/output and the actual functions."
   ]
  },
  {
   "cell_type": "code",
   "execution_count": 15,
   "metadata": {},
   "outputs": [],
   "source": [
    "from pybedtools import BedTool # Note this requires bedtools\n",
    "from glob import glob\n",
    "import os\n",
    "import pandas as pd\n",
    "import numpy as np"
   ]
  },
  {
   "cell_type": "code",
   "execution_count": 2,
   "metadata": {
    "scrolled": true
   },
   "outputs": [
    {
     "data": {
      "text/plain": [
       "'/home/work2017/Documents/Jamin'"
      ]
     },
     "execution_count": 2,
     "metadata": {},
     "output_type": "execute_result"
    }
   ],
   "source": [
    "# Ensure at top-level directory\n",
    "os.chdir(\"../\")\n",
    "os.getcwd()"
   ]
  },
  {
   "cell_type": "markdown",
   "metadata": {},
   "source": [
    "Current status of dir:\n",
    "\n",
    "```\n",
    ".\n",
    "├── data\n",
    "│   ├── preprocessed\n",
    "│   │   ├── markers_lifted\n",
    "│   │   │   ├── GSM628531_cd4_h2ax_1_lifted.bed\n",
    "│   │   │   ├── GSM628531_cd4_h2ax_1_lifted.err\n",
    "│   │   │   ├── GSM628531_cd4_h2ax_2_lifted.bed\n",
    "│   │   │   ├── GSM628531_cd4_h2ax_2_lifted.err\n",
    "│   │   │   ├── GSM628532_jurkat_h2ax_1_lifted.bed\n",
    "│   │   │   ├── GSM628532_jurkat_h2ax_1_lifted.err\n",
    "│   │   │   ├── GSM628532_jurkat_h2ax_2_lifted.bed\n",
    "│   │   │   ├── GSM628532_jurkat_h2ax_2_lifted.err\n",
    "│   │   │   ├── GSM628533_hl60_h2ax_1_lifted.bed\n",
    "│   │   │   ├── GSM628533_hl60_h2ax_1_lifted.err\n",
    "│   │   │   ├── GSM628533_hl60_h2ax_2_lifted.bed\n",
    "│   │   │   ├── GSM628533_hl60_h2ax_2_lifted.err\n",
    "│   │   │   ├── GSM628534_cd4_rgh2ax_1_lifted.bed\n",
    "│   │   │   ├── GSM628534_cd4_rgh2ax_1_lifted.err\n",
    "│   │   │   ├── GSM628534_cd4_rgh2ax_2_lifted.bed\n",
    "│   │   │   ├── GSM628534_cd4_rgh2ax_2_lifted.err\n",
    "│   │   │   ├── GSM628535_jurkat_gh2ax_lifted.bed\n",
    "│   │   │   └── GSM628535_jurkat_gh2ax_lifted.err\n",
    "│   │   └── mutations_bed\n",
    "│   │       ├── TCGA.BRCA.muse.6fcfff20-4993-4789-b27b-69d165130466.DR-6.0.somatic.bed\n",
    "│   │       ├── TCGA.BRCA.mutect.96983226-d92a-449d-8890-e1b210cee0fe.DR-6.0.somatic.bed\n",
    "│   │       ├── TCGA.BRCA.somaticsniper.8855730e-21ad-4711-9be2-b58bc337834e.DR-6.0.somatic.bed\n",
    "│   │       └── TCGA.BRCA.varscan.053e3955-5fbd-46d3-8a21-c3cde48ef9b4.DR-6.0.somatic.bed\n",
    "│   ├── processed\n",
    "│   └── raw\n",
    "│       ├── blacklists\n",
    "│       │   └── hg38.blacklist.bed\n",
    "│       ├── liftOverchains\n",
    "│       │   ├── hg18ToHg38.over.chain\n",
    "│       │   └── hg19ToHg38.over.chain\n",
    "│       ├── markers\n",
    "│       │   └── hg18\n",
    "│       │       ├── GSM628531_cd4_h2ax_1.bed\n",
    "│       │       ├── GSM628531_cd4_h2ax_2.bed\n",
    "│       │       ├── GSM628532_jurkat_h2ax_1.bed\n",
    "│       │       ├── GSM628532_jurkat_h2ax_2.bed\n",
    "│       │       ├── GSM628533_hl60_h2ax_1.bed\n",
    "│       │       ├── GSM628533_hl60_h2ax_2.bed\n",
    "│       │       ├── GSM628534_cd4_rgh2ax_1.bed\n",
    "│       │       ├── GSM628534_cd4_rgh2ax_2.bed\n",
    "│       │       └── GSM628535_jurkat_gh2ax.bed\n",
    "│       ├── markers_other\n",
    "│       │   ├── GSM628530_cd4_h2a_1.bed\n",
    "│       │   ├── GSM628530_cd4_h2a_2.bed\n",
    "│       │   └── GSM628537_input_DNA.bed\n",
    "│       └── mutations\n",
    "│           ├── TCGA.BRCA.muse.6fcfff20-4993-4789-b27b-69d165130466.DR-6.0.somatic.maf\n",
    "│           ├── TCGA.BRCA.mutect.96983226-d92a-449d-8890-e1b210cee0fe.DR-6.0.somatic.maf\n",
    "│           ├── TCGA.BRCA.somaticsniper.8855730e-21ad-4711-9be2-b58bc337834e.DR-6.0.somatic.maf\n",
    "│           └── TCGA.BRCA.varscan.053e3955-5fbd-46d3-8a21-c3cde48ef9b4.DR-6.0.somatic.maf\n",
    "└── src\n",
    "    ├── 20170625_exploratory.ipynb\n",
    "    ├── 20170627_draftworkflow.ipynb\n",
    "    └── 20170628_updatedworkflow.ipynb\n",
    "\n",
    "13 directories, 44 files\n",
    "```"
   ]
  },
  {
   "cell_type": "markdown",
   "metadata": {},
   "source": [
    "# Preprocessing in Bash"
   ]
  },
  {
   "cell_type": "markdown",
   "metadata": {},
   "source": [
    "## Concatenating .bed files where necessary\n",
    "\n",
    "Some of the raw files seem to be split into two. Just a quick script to concatenate the two files..."
   ]
  },
  {
   "cell_type": "code",
   "execution_count": 31,
   "metadata": {},
   "outputs": [],
   "source": [
    "%%bash\n",
    "\n",
    "cd data/raw/markers/GSE25577\n",
    "\n",
    "destination=../GSE25577_concatenated/\n",
    "\n",
    "for filename in *1.bed;\n",
    "do\n",
    "    file_no_dir=${filename##*/}\n",
    "    file_new_name=${file_no_dir/_1.bed/.bed} \n",
    "    cp $filename ../GSE25577_concatenated/$file_new_name\n",
    "    cat ${filename/1.bed/2.bed} >> ../GSE25577_concatenated/$file_new_name\n",
    "done"
   ]
  },
  {
   "cell_type": "markdown",
   "metadata": {},
   "source": [
    "## liftOver"
   ]
  },
  {
   "cell_type": "code",
   "execution_count": 32,
   "metadata": {},
   "outputs": [
    {
     "name": "stdout",
     "output_type": "stream",
     "text": [
      "/home/work2017/Documents/Jamin/data/raw/markers/GSE25577_concatenated\n"
     ]
    },
    {
     "name": "stderr",
     "output_type": "stream",
     "text": [
      "Reading liftover chains\n",
      "Mapping coordinates\n",
      "Reading liftover chains\n",
      "Mapping coordinates\n",
      "Reading liftover chains\n",
      "Mapping coordinates\n",
      "Reading liftover chains\n",
      "Mapping coordinates\n"
     ]
    }
   ],
   "source": [
    "%%bash\n",
    "\n",
    "\n",
    "# LIFTOVER FOR hg18 BED FILES -----------------------------------------------------------------------------\n",
    "cd data/raw/markers/GSE25577_concatenated\n",
    "pwd\n",
    "\n",
    "dir_chain=../../liftOverchains/hg18ToHg38.over.chain\n",
    "dir_save=../../../preprocessed/markers_lifted/\n",
    "\n",
    "for filename in *.bed;\n",
    "do\n",
    "    liftOver $filename $dir_chain $dir_save${filename/.bed/_lifted.bed} $dir_save${filename/.bed/_lifted.err}\n",
    "done"
   ]
  },
  {
   "cell_type": "markdown",
   "metadata": {},
   "source": [
    "> NOTE: ensure to keep hg18 files and hg19 files separated..."
   ]
  },
  {
   "cell_type": "markdown",
   "metadata": {},
   "source": [
    "## Subsetting .maf Based on Clinical/Biospecimen Features"
   ]
  },
  {
   "cell_type": "markdown",
   "metadata": {},
   "source": [
    "> Still to be done"
   ]
  },
  {
   "cell_type": "markdown",
   "metadata": {},
   "source": [
    "## Converting .maf to .bed"
   ]
  },
  {
   "cell_type": "code",
   "execution_count": 10,
   "metadata": {},
   "outputs": [],
   "source": [
    "%%bash\n",
    "\n",
    "# Ensure data/ lies in your current directory\n",
    "cd data/raw/mutations/\n",
    "\n",
    "for filename in *.maf;\n",
    "do \n",
    "    cut -f 5-8 $filename \\\n",
    "    | awk 'NR >= 6 {print}' \\\n",
    "    | awk '$3 = $3 FS \".\" FS \".\"' \\\n",
    "    | sed s/\" \"/\"\\t\"/g \\\n",
    "    > ../../preprocessed/mutations_bed/${filename%.maf}.bed\n",
    "done"
   ]
  },
  {
   "cell_type": "markdown",
   "metadata": {},
   "source": [
    "# Populating the Blacklist for Filtering"
   ]
  },
  {
   "cell_type": "markdown",
   "metadata": {},
   "source": [
    "> Still to be done..."
   ]
  },
  {
   "cell_type": "markdown",
   "metadata": {},
   "source": [
    "# Intersection Function"
   ]
  },
  {
   "cell_type": "markdown",
   "metadata": {},
   "source": [
    "> Note that this incorporates the filter step within it as well."
   ]
  },
  {
   "cell_type": "code",
   "execution_count": 26,
   "metadata": {
    "collapsed": true
   },
   "outputs": [],
   "source": [
    "def bed_intersect(marker_bed, mutations_bed):\n",
    "    # INPUTS:\n",
    "    # marker_bed: BedTool object of the coordinates of the marker\n",
    "    # mutations_bed: BedTool object of the coordinates of the mutations\n",
    "    # OUTPUTS:\n",
    "    # A tuple consisting of:\n",
    "    # - fisher_test: object representing the output from bedtools fisher test (print to see)\n",
    "    # - prop_intersection: % of marker_bed that intersected with mutations_bed\n",
    "    # - intersect_bed: BedTool object of the intersections\n",
    "    \n",
    "    # Function set variables ------------------------------------------------------------------\n",
    "    dir_blacklist = \"data/raw/blacklists/\"\n",
    "    name_blacklist = \"hg38.blacklist.bed\"\n",
    "    \n",
    "    window_size = 1000 # size of windows around the points for intersection, if using window\n",
    "    \n",
    "    # Filtering -------------------------------------------------------------------------------\n",
    "    \n",
    "    # Produce blacklist BedTool instance\n",
    "    blacklist = BedTool(\"\".join([dir_blacklist, name_blacklist]))\n",
    "    \n",
    "    # Filter by subtracting blacklist from the original beds\n",
    "    filtered_marker_bed = marker_bed.subtract(blacklist)\n",
    "    filtered_mutations_bed = mutations_bed.subtract(blacklist)\n",
    "    \n",
    "    # Intersection ----------------------------------------------------------------------------\n",
    "    \n",
    "    # Intersection WITH WINDOW\n",
    "    # intersect_bed = filtered_marker.window(filtered_mutations_bed, w=window_size)\n",
    "    \n",
    "    # Intersection WITHOUT WINDOW\n",
    "    intersect_bed = filtered_marker_bed.intersect(filtered_mutations_bed)\n",
    "    \n",
    "    # Statistics-------------------------------------------------------------------------------\n",
    "    \n",
    "    # Proportion of intersection\n",
    "    prop_intersection = intersect_bed.count() / filtered_marker_bed.count()\n",
    "    \n",
    "    # For Fisher's exact test\n",
    "    # Sorting first as bedtools documentations mentions that this is required\n",
    "    # NOTE: seems that this is sorted such that chr12 comes before chr 2 - is this a problem? \n",
    "    # It seems that even the bedtools original would have done this too...\n",
    "    sorted_marker_bed = filtered_marker_bed.sort()\n",
    "    sorted_mutations_bed = filtered_mutations_bed.sort()\n",
    "    fisher_test = sorted_marker_bed.fisher(sorted_mutations_bed, genome=\"hg38\")\n",
    "    \n",
    "    # Output ----------------------------------------------------------------------------------\n",
    "    \n",
    "    return fisher_test, prop_intersection, intersect_bed    "
   ]
  },
  {
   "cell_type": "markdown",
   "metadata": {},
   "source": [
    "There are some questions regarding the intersection that I have:\n",
    "\n",
    "1. There is the possibility of using the window, but it appears this greatly increases the number of intersections. I wonder if the region of $\\gamma$-H2AX is sufficient to include that of the mutations - is the window there in case of random shifts?\n",
    "2. Does strandedness matter? I'm inclined to think not since it doesn't make sense to me how phosphorylated H2AX could be strand-selective, but there are both positive and negative strands in the bed file so I'm not entirely sure what that means...But then from visual inspection of the mutation data, they all seem positive...\n",
    "3. There are some statistical tests already implemented in BedTools that might be useful: Fisher exact test seems most relevant, but the Jaccard statistics may be useful too. http://bedtools.readthedocs.io/en/latest/content/tools/fisher.html. I feel that unless there is some reason not to, this would not be a bad idea at the moment to use (at least until a better can be found)\n",
    "4. See the sorting comment in the code above."
   ]
  },
  {
   "cell_type": "markdown",
   "metadata": {},
   "source": [
    "# Python Scripts"
   ]
  },
  {
   "cell_type": "markdown",
   "metadata": {
    "collapsed": true
   },
   "source": [
    "At this stage, we have done our preprocessing (producing a new set of BED files that can be used directly from Python with `pybedtools`, and need to stitch things together with the function created above.\n",
    "\n",
    "The data we have preprocessed should be stored in the directories `data/preprocessed/marks_lifted` and `data/preprocessed/mutations_bed`. "
   ]
  },
  {
   "cell_type": "code",
   "execution_count": 33,
   "metadata": {},
   "outputs": [
    {
     "name": "stdout",
     "output_type": "stream",
     "text": [
      "data/preprocessed/markers_lifted/GSM628532_jurkat_h2ax_lifted.bed\n"
     ]
    },
    {
     "ename": "BEDToolsError",
     "evalue": "\nCommand was:\n\n\tbedtools fisher -g /tmp/pybedtools.dptz1pz7.tmp -b /tmp/pybedtools.4ie0x9ri.tmp -a /tmp/pybedtools.85i7d6t4.tmp\n\nError message was:\nError: Sorted input specified, but the file /tmp/pybedtools.4ie0x9ri.tmp has the following out of order record\nchr1\t119915812\t119915813\t.\t.\t+\n",
     "output_type": "error",
     "traceback": [
      "\u001b[0;31m---------------------------------------------------------------------------\u001b[0m",
      "\u001b[0;31mBEDToolsError\u001b[0m                             Traceback (most recent call last)",
      "\u001b[0;32m<ipython-input-33-f07de2142bbb>\u001b[0m in \u001b[0;36m<module>\u001b[0;34m()\u001b[0m\n\u001b[1;32m     20\u001b[0m         \u001b[0mbed_marker\u001b[0m \u001b[0;34m=\u001b[0m \u001b[0mBedTool\u001b[0m\u001b[0;34m(\u001b[0m\u001b[0mfile_marker\u001b[0m\u001b[0;34m)\u001b[0m\u001b[0;34m\u001b[0m\u001b[0m\n\u001b[1;32m     21\u001b[0m         \u001b[0mbed_mutations\u001b[0m \u001b[0;34m=\u001b[0m \u001b[0mBedTool\u001b[0m\u001b[0;34m(\u001b[0m\u001b[0mfile_mutations\u001b[0m\u001b[0;34m)\u001b[0m\u001b[0;34m\u001b[0m\u001b[0m\n\u001b[0;32m---> 22\u001b[0;31m         \u001b[0mresults\u001b[0m \u001b[0;34m=\u001b[0m \u001b[0mbed_intersect\u001b[0m\u001b[0;34m(\u001b[0m\u001b[0mbed_marker\u001b[0m\u001b[0;34m,\u001b[0m \u001b[0mbed_mutations\u001b[0m\u001b[0;34m)\u001b[0m\u001b[0;34m\u001b[0m\u001b[0m\n\u001b[0m\u001b[1;32m     23\u001b[0m \u001b[0;34m\u001b[0m\u001b[0m\n\u001b[1;32m     24\u001b[0m         \u001b[0mfilename_marker\u001b[0m \u001b[0;34m=\u001b[0m \u001b[0mfile_marker\u001b[0m\u001b[0;34m.\u001b[0m\u001b[0mreplace\u001b[0m\u001b[0;34m(\u001b[0m\u001b[0mdir_markers\u001b[0m\u001b[0;34m,\u001b[0m \u001b[0;34m\"\"\u001b[0m\u001b[0;34m)\u001b[0m\u001b[0;34m\u001b[0m\u001b[0m\n",
      "\u001b[0;32m<ipython-input-26-5b8389fb67ef>\u001b[0m in \u001b[0;36mbed_intersect\u001b[0;34m(marker_bed, mutations_bed)\u001b[0m\n\u001b[1;32m     43\u001b[0m     \u001b[0msorted_marker_bed\u001b[0m \u001b[0;34m=\u001b[0m \u001b[0mfiltered_marker_bed\u001b[0m\u001b[0;34m.\u001b[0m\u001b[0msort\u001b[0m\u001b[0;34m(\u001b[0m\u001b[0;34m)\u001b[0m\u001b[0;34m\u001b[0m\u001b[0m\n\u001b[1;32m     44\u001b[0m     \u001b[0msorted_mutations_bed\u001b[0m \u001b[0;34m=\u001b[0m \u001b[0mfiltered_mutations_bed\u001b[0m\u001b[0;34m.\u001b[0m\u001b[0msort\u001b[0m\u001b[0;34m(\u001b[0m\u001b[0;34m)\u001b[0m\u001b[0;34m\u001b[0m\u001b[0m\n\u001b[0;32m---> 45\u001b[0;31m     \u001b[0mfisher_test\u001b[0m \u001b[0;34m=\u001b[0m \u001b[0msorted_marker_bed\u001b[0m\u001b[0;34m.\u001b[0m\u001b[0mfisher\u001b[0m\u001b[0;34m(\u001b[0m\u001b[0msorted_mutations_bed\u001b[0m\u001b[0;34m,\u001b[0m \u001b[0mgenome\u001b[0m\u001b[0;34m=\u001b[0m\u001b[0;34m\"hg38\"\u001b[0m\u001b[0;34m)\u001b[0m\u001b[0;34m\u001b[0m\u001b[0m\n\u001b[0m\u001b[1;32m     46\u001b[0m \u001b[0;34m\u001b[0m\u001b[0m\n\u001b[1;32m     47\u001b[0m     \u001b[0;31m# Output ----------------------------------------------------------------------------------\u001b[0m\u001b[0;34m\u001b[0m\u001b[0;34m\u001b[0m\u001b[0m\n",
      "\u001b[0;32m/home/work2017/anaconda3/lib/python3.6/site-packages/pybedtools/bedtool.py\u001b[0m in \u001b[0;36mwrapped\u001b[0;34m(self, *args, **kwargs)\u001b[0m\n\u001b[1;32m    335\u001b[0m             stream = call_bedtools(cmds, tmp, stdin=stdin,\n\u001b[1;32m    336\u001b[0m                                    \u001b[0mcheck_stderr\u001b[0m\u001b[0;34m=\u001b[0m\u001b[0mcheck_stderr\u001b[0m\u001b[0;34m,\u001b[0m\u001b[0;34m\u001b[0m\u001b[0m\n\u001b[0;32m--> 337\u001b[0;31m                                    \u001b[0mdecode_output\u001b[0m\u001b[0;34m=\u001b[0m\u001b[0mdecode_output\u001b[0m\u001b[0;34m,\u001b[0m\u001b[0;34m\u001b[0m\u001b[0m\n\u001b[0m\u001b[1;32m    338\u001b[0m                                    )\n\u001b[1;32m    339\u001b[0m \u001b[0;34m\u001b[0m\u001b[0m\n",
      "\u001b[0;32m/home/work2017/anaconda3/lib/python3.6/site-packages/pybedtools/helpers.py\u001b[0m in \u001b[0;36mcall_bedtools\u001b[0;34m(cmds, tmpfn, stdin, check_stderr, decode_output, encode_input)\u001b[0m\n\u001b[1;32m    354\u001b[0m                 \u001b[0msys\u001b[0m\u001b[0;34m.\u001b[0m\u001b[0mstderr\u001b[0m\u001b[0;34m.\u001b[0m\u001b[0mwrite\u001b[0m\u001b[0;34m(\u001b[0m\u001b[0mstderr\u001b[0m\u001b[0;34m)\u001b[0m\u001b[0;34m\u001b[0m\u001b[0m\n\u001b[1;32m    355\u001b[0m             \u001b[0;32melse\u001b[0m\u001b[0;34m:\u001b[0m\u001b[0;34m\u001b[0m\u001b[0m\n\u001b[0;32m--> 356\u001b[0;31m                 \u001b[0;32mraise\u001b[0m \u001b[0mBEDToolsError\u001b[0m\u001b[0;34m(\u001b[0m\u001b[0msubprocess\u001b[0m\u001b[0;34m.\u001b[0m\u001b[0mlist2cmdline\u001b[0m\u001b[0;34m(\u001b[0m\u001b[0mcmds\u001b[0m\u001b[0;34m)\u001b[0m\u001b[0;34m,\u001b[0m \u001b[0mstderr\u001b[0m\u001b[0;34m)\u001b[0m\u001b[0;34m\u001b[0m\u001b[0m\n\u001b[0m\u001b[1;32m    357\u001b[0m \u001b[0;34m\u001b[0m\u001b[0m\n\u001b[1;32m    358\u001b[0m \u001b[0;34m\u001b[0m\u001b[0m\n",
      "\u001b[0;31mBEDToolsError\u001b[0m: \nCommand was:\n\n\tbedtools fisher -g /tmp/pybedtools.dptz1pz7.tmp -b /tmp/pybedtools.4ie0x9ri.tmp -a /tmp/pybedtools.85i7d6t4.tmp\n\nError message was:\nError: Sorted input specified, but the file /tmp/pybedtools.4ie0x9ri.tmp has the following out of order record\nchr1\t119915812\t119915813\t.\t.\t+\n"
     ]
    }
   ],
   "source": [
    "# INPUT/OUTPUT\n",
    "\n",
    "dir_markers = \"data/preprocessed/markers_lifted/\"\n",
    "dir_mutations = \"data/preprocessed/mutations_bed/\"\n",
    "\n",
    "num_marker_files = sum(1 for file in glob(\"\".join([dir_markers, \"*.bed\"])))\n",
    "num_mutations_files = sum(1 for file in glob(\"\".join([dir_mutations, \"*.bed\"])))\n",
    "\n",
    "col_names = [\"marker_file\", \"mutation_file\", \"fisher_stat\", \"prop_intersection\", \"intersect_bed\"]\n",
    "num_rows = num_marker_files * num_mutations_files\n",
    "\n",
    "agg_results = pd.DataFrame(columns=col_names)\n",
    "\n",
    "count = 0\n",
    "\n",
    "# As always, need to be wary of the nested for loop...\n",
    "for file_marker in glob(\"\".join([dir_markers, \"*.bed\"])):\n",
    "    print(file_marker)\n",
    "    for file_mutations in glob(\"\".join([dir_mutations, \"*.bed\"])):\n",
    "        bed_marker = BedTool(file_marker)\n",
    "        bed_mutations = BedTool(file_mutations)\n",
    "        results = bed_intersect(bed_marker, bed_mutations)\n",
    "        \n",
    "        filename_marker = file_marker.replace(dir_markers, \"\")\n",
    "        filename_mutations = file_mutations.replace(dir_mutations, \"\")\n",
    "        \n",
    "        data_entry = [[filename_marker, filename_mutations, results[0].two_tail, results[1], results[2]]]\n",
    "        new_row = pd.DataFrame(data_entry, columns=col_names)\n",
    "        agg_results.append(new_row)"
   ]
  },
  {
   "cell_type": "code",
   "execution_count": null,
   "metadata": {
    "collapsed": true
   },
   "outputs": [],
   "source": []
  }
 ],
 "metadata": {
  "kernelspec": {
   "display_name": "Python 3",
   "language": "python",
   "name": "python3"
  },
  "language_info": {
   "codemirror_mode": {
    "name": "ipython",
    "version": 3
   },
   "file_extension": ".py",
   "mimetype": "text/x-python",
   "name": "python",
   "nbconvert_exporter": "python",
   "pygments_lexer": "ipython3",
   "version": "3.6.1"
  }
 },
 "nbformat": 4,
 "nbformat_minor": 2
}
