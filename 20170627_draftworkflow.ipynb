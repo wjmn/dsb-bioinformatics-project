{
 "cells": [
  {
   "cell_type": "markdown",
   "metadata": {},
   "source": [
    "# Draft Workflow\n",
    "\n",
    "The general outline for this workflow will be to process data stored in ../data/raw step-by-step.\n",
    "\n",
    "1. Preprocess H2AX/$\\gamma$-H2AX .bed files: 1) remap to hg38\n",
    "2. Preprocess somatic mutations .maf files: 1) convert to .bed file\n",
    "3. Filter .bed files for hg38 blacklist and RepeatMasks (and other?)\n",
    "4. Use bedtools window to find intersection between H2AX/$\\gamma$-H2AX and somatic mutations\n",
    "\n",
    "These are the basic four steps to this workflow."
   ]
  },
  {
   "cell_type": "markdown",
   "metadata": {},
   "source": [
    "Before doing anything, just make sure we're in the root directory of this project."
   ]
  },
  {
   "cell_type": "markdown",
   "metadata": {
    "collapsed": true
   },
   "source": [
    "```{bash}\n",
    "# Ensure data/ lies in your current directory\n",
    "cd ../\n",
    "```"
   ]
  },
  {
   "cell_type": "markdown",
   "metadata": {},
   "source": [
    "> NOTE: The above must be at the beginning of every bash cell since bash cells don't communicate between each other it appears. "
   ]
  },
  {
   "cell_type": "markdown",
   "metadata": {},
   "source": [
    "The Python imports necessary for this notebook are shown below."
   ]
  },
  {
   "cell_type": "code",
   "execution_count": 25,
   "metadata": {
    "collapsed": true
   },
   "outputs": [],
   "source": [
    "from pybedtools import BedTool # Note this requires bedtools\n",
    "import os\n",
    "import glob"
   ]
  },
  {
   "cell_type": "markdown",
   "metadata": {},
   "source": [
    "Since Python cells communicate with each other, we can just change the current directory once."
   ]
  },
  {
   "cell_type": "code",
   "execution_count": 26,
   "metadata": {
    "scrolled": true
   },
   "outputs": [
    {
     "data": {
      "text/plain": [
       "'/home/work2017/Documents/Jamin'"
      ]
     },
     "execution_count": 26,
     "metadata": {},
     "output_type": "execute_result"
    }
   ],
   "source": [
    "# Ensure at top-level directory\n",
    "os.chdir(\"../\")\n",
    "os.getcwd()"
   ]
  },
  {
   "cell_type": "markdown",
   "metadata": {},
   "source": [
    "Current tree of directory:\n",
    "\n",
    "```\n",
    "   .\n",
    "   |-data\n",
    "   |---preprocessed\n",
    "   |-----filtered\n",
    "   |-------marker\n",
    "   |-------mutations\n",
    "   |-----liftOver\n",
    "   |-----somaticmutations_bed\n",
    "   |---processed\n",
    "   |---raw\n",
    "   |-----blacklists\n",
    "   |-----gdc_breast_somaticmutations\n",
    "   |-----mark_gammaH2AX\n",
    "   |-----mark_H2AX\n",
    "   |-----mark_other\n",
    "   |-src\n",
    "```"
   ]
  },
  {
   "cell_type": "markdown",
   "metadata": {},
   "source": [
    "# 1: Preprocessing H2AX/$\\gamma$-H2AX .bed files\n",
    "\n",
    ".bed data from Accession Number GSE25577 was downloaded, extracted and split into the directories `/data/raw/mark_H2AX`, `/data/raw/mark_gammaH2AX` and `/data/raw/mark_other`.\n",
    "\n",
    "Remapping will be done with liftOver, provided by UCSC (https://genome.ucsc.edu/cgi-bin/hgLiftOver)\n",
    "\n",
    "For the moment, I have tested the remapping on `GSM628535_jurkat_gh2ax.bed` and saved the two output files - `GSM628535_jurkat_gh2ax_liftOver.bed` and `GSM628535_jurkat_gh2ax_liftOver.err` (error output) into `/data/preprocessed/liftOver`. Testing bigger files didn't seem to come to completion for the moment. \n",
    "\n",
    "> Will need to do this from command line later, but this will suffice to test things out for the moment."
   ]
  },
  {
   "cell_type": "markdown",
   "metadata": {},
   "source": [
    "My greatest fear here is the conversion between Assembly Versions...I think I need to read up on it a bit more before I feel confident with it."
   ]
  },
  {
   "cell_type": "markdown",
   "metadata": {},
   "source": [
    "Let's check this:"
   ]
  },
  {
   "cell_type": "code",
   "execution_count": 39,
   "metadata": {},
   "outputs": [
    {
     "name": "stdout",
     "output_type": "stream",
     "text": [
      "chr1\t10150\t10350\t.\t.\t-\n",
      "chr1\t10474\t10811\t.\t.\t+\n",
      "chr1\t10332\t10532\t.\t.\t-\n",
      "chr1\t10503\t10840\t.\t.\t+\n",
      "chr1\t10526\t10863\t.\t.\t+\n",
      "chr1\t10528\t10865\t.\t.\t+\n",
      "chr1\t10532\t10869\t.\t.\t+\n",
      "chr1\t10443\t10780\t.\t.\t-\n",
      "chr1\t12879\t13079\t.\t.\t-\n",
      "chr1\t14909\t15109\t.\t.\t+\n"
     ]
    }
   ],
   "source": [
    "%%bash\n",
    "\n",
    "# Ensure data/ lies in your current directory\n",
    "cd ../\n",
    "\n",
    "head data/preprocessed/liftOver/GSM628535_jurkat_gh2ax_liftOver.bed"
   ]
  },
  {
   "cell_type": "markdown",
   "metadata": {},
   "source": [
    "Just out of interest, let's compare this to the hg18 original raw bed file:"
   ]
  },
  {
   "cell_type": "code",
   "execution_count": 40,
   "metadata": {
    "scrolled": true
   },
   "outputs": [
    {
     "name": "stdout",
     "output_type": "stream",
     "text": [
      "chr1\t150\t350\t.\t.\t -\n",
      "chr1\t474\t674\t.\t.\t +\n",
      "chr1\t332\t532\t.\t.\t -\n",
      "chr1\t503\t703\t.\t.\t +\n",
      "chr1\t526\t726\t.\t.\t +\n",
      "chr1\t528\t728\t.\t.\t +\n",
      "chr1\t532\t732\t.\t.\t +\n",
      "chr1\t443\t643\t.\t.\t -\n",
      "chr1\t2742\t2942\t.\t.\t -\n",
      "chr1\t4772\t4972\t.\t.\t +\n"
     ]
    }
   ],
   "source": [
    "%%bash\n",
    "\n",
    "# Ensure data/ lies in your current directory\n",
    "cd ../\n",
    "\n",
    "head data/raw/mark_gammaH2AX/GSM628535_jurkat_gh2ax.bed"
   ]
  },
  {
   "cell_type": "markdown",
   "metadata": {},
   "source": [
    "# 2: Preprocessing Somatic Mutations .maf files\n",
    "\n",
    ".maf files somatic mutations were downloaded from the GDC data portal under the query `Primary Site IS Breast AND Data Type IS Masked Somatic Mutation`. The cart was extracted and placed in the directory `/data/raw/gdc_breast_somaticmutations`.\n"
   ]
  },
  {
   "cell_type": "markdown",
   "metadata": {},
   "source": [
    "To convert the .maf file to a .bed file, columns 5 - 8 (inclusive both ends) and rows >= 6 were extracted and two columns (populated with \".\") were added. Since (and unfortunately due to my newness with awk...) there were spaces produced by the FS rather than tabs, the space delimiters are then replaced with tabs to produce the .bed file."
   ]
  },
  {
   "cell_type": "code",
   "execution_count": 17,
   "metadata": {
    "scrolled": false
   },
   "outputs": [],
   "source": [
    "%%bash\n",
    "\n",
    "# Ensure data/ lies in your current directory\n",
    "cd ../data/raw/gdc_breast_somaticmutations\n",
    "\n",
    "for filename in *.maf;\n",
    "do \n",
    "    cut -f 5-8 $filename \\\n",
    "    | awk 'NR >= 6 {print}' \\\n",
    "    | awk '$3 = $3 FS \".\" FS \".\"' \\\n",
    "    | sed s/\" \"/\"\\t\"/g \\\n",
    "    > ../../preprocessed/somaticmutations_bed/${filename%.maf}.bed\n",
    "done"
   ]
  },
  {
   "cell_type": "markdown",
   "metadata": {},
   "source": [
    "> NOTE TO SELF: Must come back to this! This isn't generalised yet (expecially the saving to file at the end - make it the same name as the original, but with the bed extension)"
   ]
  },
  {
   "cell_type": "markdown",
   "metadata": {},
   "source": [
    "Let's check this:"
   ]
  },
  {
   "cell_type": "code",
   "execution_count": 37,
   "metadata": {},
   "outputs": [
    {
     "name": "stdout",
     "output_type": "stream",
     "text": [
      "chr1\t152355460\t152355460\t.\t.\t+\n",
      "chr1\t190098358\t190098358\t.\t.\t+\n",
      "chr1\t231694371\t231694371\t.\t.\t+\n",
      "chr2\t88947539\t88947539\t.\t.\t+\n",
      "chr2\t96865893\t96865893\t.\t.\t+\n",
      "chr2\t113443886\t113443886\t.\t.\t+\n",
      "chr2\t124772881\t124772881\t.\t.\t+\n",
      "chr2\t166056443\t166056443\t.\t.\t+\n",
      "chr2\t238025349\t238025349\t.\t.\t+\n",
      "chr3\t11259195\t11259195\t.\t.\t+\n"
     ]
    }
   ],
   "source": [
    "%%bash\n",
    "\n",
    "# This is necessary again because bash doesn't seem to communiate between cells\n",
    "cd ../\n",
    "\n",
    "head data/preprocessed/somaticmutations_bed/gdc_breast.bed"
   ]
  },
  {
   "cell_type": "markdown",
   "metadata": {},
   "source": [
    "# 3: Filters"
   ]
  },
  {
   "cell_type": "markdown",
   "metadata": {},
   "source": [
    "The hg38 blacklist was obtained from https://sites.google.com/site/anshulkundaje/projects/blacklists and was saved to `/data/raw/blacklists`. \n",
    "\n",
    "> I won't use repeat masker right now since I'm not sure how to do this at this stage...it seems I need a FASTQ file to do so..."
   ]
  },
  {
   "cell_type": "markdown",
   "metadata": {},
   "source": [
    "With the small blacklist at the moment, this is not too difficult a task. Any further blacklist additions will need to be concatenated."
   ]
  },
  {
   "cell_type": "code",
   "execution_count": 22,
   "metadata": {
    "collapsed": true
   },
   "outputs": [],
   "source": [
    "# INPUT/OUTPUT\n",
    "dir_liftOver = \"data/preprocessed/liftOver/\"\n",
    "dir_somaticmutations = \"data/preprocessed/somaticmutations_bed/\"\n",
    "\n",
    "dir_blacklist = \"data/raw/blacklists/\"\n",
    "name_blacklist = \"hg38.blacklist.bed\"\n",
    "\n",
    "dir_save = \"data/preprocessed/filtered/\""
   ]
  },
  {
   "cell_type": "code",
   "execution_count": 3,
   "metadata": {
    "collapsed": true
   },
   "outputs": [],
   "source": [
    "# Produce blacklist BedTool instance\n",
    "blacklist = BedTool(\"\".join([dir_blacklist, name_blacklist]))\n",
    "\n",
    "# Iterate for those in liftOver\n",
    "dir_list = [dir_liftOver, dir_somaticmutations]\n",
    "type_list = [\"marker/\", \"mutations/\"]\n",
    "for i, directory in enumerate(dir_list):\n",
    "    for filename in glob.glob(\"\".join([directory, \"*.bed\"])):\n",
    "        full_bed = BedTool(filename)\n",
    "        filtered_bed = full_bed.subtract(blacklist)\n",
    "        filtered_bed.saveas(\"\".join([dir_save, \n",
    "                                     type_list[i], \n",
    "                                     \"filtered_\", \n",
    "                                     filename.replace(directory, \"\")\n",
    "                                    ]))"
   ]
  },
  {
   "cell_type": "markdown",
   "metadata": {},
   "source": [
    "[Let's have a look at an example of what's generated] is what I would say, but there are so few blacklists at the moment that I don't think there's much point right now..."
   ]
  },
  {
   "cell_type": "markdown",
   "metadata": {},
   "source": [
    "# 4: Finding the Intersection between Marker and Mutations"
   ]
  },
  {
   "cell_type": "markdown",
   "metadata": {
    "collapsed": true
   },
   "source": [
    "To find the intersection, we will use BedTools.window which allow intersection within a certain symmetrical radius about the coordinates. "
   ]
  },
  {
   "cell_type": "code",
   "execution_count": 23,
   "metadata": {
    "collapsed": true
   },
   "outputs": [],
   "source": [
    "# INPUT/OUTPUT\n",
    "dir_filtered = \"data/preprocessed/filtered/\"\n",
    "dir_marker = \"\".join([dir_filtered, \"marker/\"])\n",
    "dir_mutations = \"\".join([dir_filtered, \"mutations/\"])\n",
    "\n",
    "dir_save = \"data/processed/\"\n",
    "\n",
    "window_size = 1000 #default"
   ]
  },
  {
   "cell_type": "code",
   "execution_count": 11,
   "metadata": {
    "collapsed": true
   },
   "outputs": [],
   "source": [
    "for file_marker in glob.glob(\"\".join([dir_marker, \"*.bed\"])):\n",
    "    for file_mutations in glob.glob(\"\".join([dir_mutations, \"*.bed\"])):\n",
    "        bed_marker = BedTool(file_marker)\n",
    "        bed_mutations = BedTool(file_mutations)\n",
    "        bed_window = bed_marker.window(bed_mutations, w = window_size)\n",
    "        bed_window.saveas(\"\".join([dir_save,\n",
    "                                   file_marker.replace(dir_marker, \"\").replace(\"filtered_\", \"\").replace(\"_liftOver.bed\", \"\"),\n",
    "                                   \"_X_\",\n",
    "                                   file_mutations.replace(dir_mutations, \"\").replace(\"filtered_\", \"\")\n",
    "                                  ]))"
   ]
  },
  {
   "cell_type": "markdown",
   "metadata": {},
   "source": [
    "# Brief Look at the Processed Data\n"
   ]
  },
  {
   "cell_type": "markdown",
   "metadata": {},
   "source": [
    "## Proportion of Marker that Matched with Mutation within Window\n"
   ]
  },
  {
   "cell_type": "code",
   "execution_count": 19,
   "metadata": {
    "collapsed": true
   },
   "outputs": [],
   "source": [
    "# Quick function to count lines in file\n",
    "def count_lines(filename):\n",
    "    num_lines = sum(1 for line in open(filename))\n",
    "    return num_lines"
   ]
  },
  {
   "cell_type": "code",
   "execution_count": 27,
   "metadata": {},
   "outputs": [
    {
     "name": "stdout",
     "output_type": "stream",
     "text": [
      "11669349\n"
     ]
    }
   ],
   "source": [
    "total_marker = count_lines(\"\".join([dir_marker, \"filtered_GSM628535_jurkat_gh2ax_liftOver.bed\"]))\n",
    "print(total_marker)"
   ]
  },
  {
   "cell_type": "code",
   "execution_count": 34,
   "metadata": {},
   "outputs": [
    {
     "name": "stdout",
     "output_type": "stream",
     "text": [
      "11669508\n"
     ]
    }
   ],
   "source": [
    "total_marker_unfiltered = count_lines(\"\".join([dir_liftOver, \"GSM628535_jurkat_gh2ax_liftOver.bed\"]))\n",
    "print(total_marker_unfiltered)"
   ]
  },
  {
   "cell_type": "code",
   "execution_count": 29,
   "metadata": {},
   "outputs": [
    {
     "name": "stdout",
     "output_type": "stream",
     "text": [
      "898935\n"
     ]
    }
   ],
   "source": [
    "total_intersect = count_lines(\"\".join([dir_save, \"GSM628535_jurkat_gh2ax_liftOver_X_gdc_breast.bed\"]))\n",
    "print(total_intersect)"
   ]
  },
  {
   "cell_type": "code",
   "execution_count": 20,
   "metadata": {},
   "outputs": [
    {
     "data": {
      "text/plain": [
       "7.7033860243617704"
      ]
     },
     "execution_count": 20,
     "metadata": {},
     "output_type": "execute_result"
    }
   ],
   "source": [
    "total_intersect / total_marker * 100"
   ]
  },
  {
   "cell_type": "markdown",
   "metadata": {},
   "source": [
    "Now just looking at the mutation file:"
   ]
  },
  {
   "cell_type": "code",
   "execution_count": 31,
   "metadata": {},
   "outputs": [
    {
     "name": "stdout",
     "output_type": "stream",
     "text": [
      "88299\n"
     ]
    }
   ],
   "source": [
    "total_mutations = count_lines(\"\".join([dir_mutations, \"filtered_gdc_breast.bed\"]))\n",
    "print(total_mutations)"
   ]
  },
  {
   "cell_type": "markdown",
   "metadata": {},
   "source": [
    "## Trying a Control..."
   ]
  },
  {
   "cell_type": "code",
   "execution_count": 40,
   "metadata": {},
   "outputs": [
    {
     "name": "stdout",
     "output_type": "stream",
     "text": [
      "642933\n"
     ]
    }
   ],
   "source": [
    "control_bed = BedTool()\n",
    "test_control = control_bed.random(l=0, n=total_marker_unfiltered, genome=\"hg38\", seed=0)\n",
    "test_control_filtered = test_control.subtract(blacklist)\n",
    "test_control_window = test_control_filtered.window(BedTool(\"\".join([dir_mutations, \"filtered_gdc_breast.bed\"])), w=window_size)\n",
    "print(test_control_window.count())"
   ]
  },
  {
   "cell_type": "code",
   "execution_count": null,
   "metadata": {
    "collapsed": true
   },
   "outputs": [],
   "source": []
  }
 ],
 "metadata": {
  "kernelspec": {
   "display_name": "Python 3",
   "language": "python",
   "name": "python3"
  },
  "language_info": {
   "codemirror_mode": {
    "name": "ipython",
    "version": 3
   },
   "file_extension": ".py",
   "mimetype": "text/x-python",
   "name": "python",
   "nbconvert_exporter": "python",
   "pygments_lexer": "ipython3",
   "version": "3.6.1"
  }
 },
 "nbformat": 4,
 "nbformat_minor": 2
}
