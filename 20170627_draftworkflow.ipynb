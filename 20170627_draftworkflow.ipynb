{
 "cells": [
  {
   "cell_type": "markdown",
   "metadata": {},
   "source": [
    "# Draft Workflow\n",
    "\n",
    "The general outline for this workflow will be to process data stored in ../data/raw step-by-step.\n",
    "\n",
    "1. Preprocess H2AX/$\\gamma$-H2AX .bed files: 1) remap to hg38\n",
    "2. Preprocess somatic mutations .maf files: 1) convert to .bed file\n",
    "3. Filter .bed files for hg38 blacklist and RepeatMasks (and other?)\n",
    "4. Use bedtools window to find intersection between H2AX/$\\gamma$-H2AX and somatic mutations\n",
    "\n",
    "These are the basic four steps to this workflow."
   ]
  },
  {
   "cell_type": "markdown",
   "metadata": {},
   "source": [
    "Before doing anything, just make sure we're in the root directory of this project."
   ]
  },
  {
   "cell_type": "code",
   "execution_count": null,
   "metadata": {
    "collapsed": true
   },
   "outputs": [],
   "source": [
    "# Ensure data/ lies in your current directory\n",
    "cd ../"
   ]
  },
  {
   "cell_type": "markdown",
   "metadata": {},
   "source": [
    "> NOTE: The above must be at the beginning of every bash cell since bash cells don't communicate between each other it appears. "
   ]
  },
  {
   "cell_type": "markdown",
   "metadata": {},
   "source": [
    "# 1: Preprocessing H2AX/$\\gamma$-H2AX .bed files\n",
    "\n",
    ".bed data from Accession Number GSE25577 was downloaded, extracted and split into the directories `/data/raw/mark_H2AX`, `/data/raw/mark_gammaH2AX` and `/data/raw/mark_other`.\n",
    "\n",
    "> NOTE: HAVE NOT YET REMAPPED TO hg38. liftOver doesn't seem to be cooperating at the moment.\n",
    "\n",
    "I have tested the remapping on `GSM628535_jurkat_gh2ax.bed` and saved the two output files - `GSM628535_jurkat_gh2ax_liftOver.bed` and `GSM628535_jurkat_gh2ax_liftOver.err` (error output) into `/data/preprocessed/liftOver`.\n",
    "\n",
    "> It is imperative that you do this locally from the command line at a later time, but at the moment this will suffice as a test."
   ]
  },
  {
   "cell_type": "markdown",
   "metadata": {},
   "source": [
    "Let's check this:"
   ]
  },
  {
   "cell_type": "code",
   "execution_count": 39,
   "metadata": {},
   "outputs": [
    {
     "name": "stdout",
     "output_type": "stream",
     "text": [
      "chr1\t10150\t10350\t.\t.\t-\n",
      "chr1\t10474\t10811\t.\t.\t+\n",
      "chr1\t10332\t10532\t.\t.\t-\n",
      "chr1\t10503\t10840\t.\t.\t+\n",
      "chr1\t10526\t10863\t.\t.\t+\n",
      "chr1\t10528\t10865\t.\t.\t+\n",
      "chr1\t10532\t10869\t.\t.\t+\n",
      "chr1\t10443\t10780\t.\t.\t-\n",
      "chr1\t12879\t13079\t.\t.\t-\n",
      "chr1\t14909\t15109\t.\t.\t+\n"
     ]
    }
   ],
   "source": [
    "%%bash\n",
    "\n",
    "# Ensure data/ lies in your current directory\n",
    "cd ../\n",
    "\n",
    "head data/preprocessed/liftOver/GSM628535_jurkat_gh2ax_liftOver.bed"
   ]
  },
  {
   "cell_type": "markdown",
   "metadata": {},
   "source": [
    "# 2: Preprocessing Somatic Mutations .maf files\n",
    "\n",
    ".maf files somatic mutations were downloaded from the GDC data portal under the query `Primary Site IS Breast AND Data Type IS Masked Somatic Mutation`. The cart was extracted and placed in the directory `/data/raw/gdc_breast_somaticmutations`.\n"
   ]
  },
  {
   "cell_type": "markdown",
   "metadata": {},
   "source": [
    "To convert the .maf file to a .bed file, columns 5 - 8 (inclusive both ends) and rows >= 6 were extracted and two columns (populated with \".\") were added. Since (and unfortunately due to my newness with awk...) there were spaces produced by the FS rather than tabs, the space delimiters are then replaced with tabs to produce the .bed file."
   ]
  },
  {
   "cell_type": "code",
   "execution_count": 35,
   "metadata": {
    "scrolled": true
   },
   "outputs": [
    {
     "name": "stdout",
     "output_type": "stream",
     "text": [
      "/home/work2017/Documents/Jamin\n"
     ]
    }
   ],
   "source": [
    "%%bash\n",
    "\n",
    "# Ensure data/ lies in your current directory\n",
    "cd ../\n",
    "\n",
    "cut -f 5-8 data/raw/gdc_breast_somaticmutations/*.maf \\\n",
    "| awk 'NR >= 6 {print}' \\\n",
    "| awk '$3 = $3 FS \".\" FS \".\"' \\\n",
    "| sed s/\" \"/\"\\t\"/g \\\n",
    "> data/preprocessed/somaticmutations_bed/gdc_breast.bed"
   ]
  },
  {
   "cell_type": "markdown",
   "metadata": {},
   "source": [
    "Let's check this:"
   ]
  },
  {
   "cell_type": "code",
   "execution_count": 37,
   "metadata": {},
   "outputs": [
    {
     "name": "stdout",
     "output_type": "stream",
     "text": [
      "chr1\t152355460\t152355460\t.\t.\t+\n",
      "chr1\t190098358\t190098358\t.\t.\t+\n",
      "chr1\t231694371\t231694371\t.\t.\t+\n",
      "chr2\t88947539\t88947539\t.\t.\t+\n",
      "chr2\t96865893\t96865893\t.\t.\t+\n",
      "chr2\t113443886\t113443886\t.\t.\t+\n",
      "chr2\t124772881\t124772881\t.\t.\t+\n",
      "chr2\t166056443\t166056443\t.\t.\t+\n",
      "chr2\t238025349\t238025349\t.\t.\t+\n",
      "chr3\t11259195\t11259195\t.\t.\t+\n"
     ]
    }
   ],
   "source": [
    "%%bash\n",
    "\n",
    "# This is necessary again because bash doesn't seem to communiate between cells\n",
    "cd ../\n",
    "\n",
    "head data/preprocessed/somaticmutations_bed/gdc_breast.bed"
   ]
  },
  {
   "cell_type": "markdown",
   "metadata": {},
   "source": [
    "# Filter "
   ]
  }
 ],
 "metadata": {
  "kernelspec": {
   "display_name": "Python 3",
   "language": "python",
   "name": "python3"
  },
  "language_info": {
   "codemirror_mode": {
    "name": "ipython",
    "version": 3
   },
   "file_extension": ".py",
   "mimetype": "text/x-python",
   "name": "python",
   "nbconvert_exporter": "python",
   "pygments_lexer": "ipython3",
   "version": "3.6.1"
  }
 },
 "nbformat": 4,
 "nbformat_minor": 2
}
