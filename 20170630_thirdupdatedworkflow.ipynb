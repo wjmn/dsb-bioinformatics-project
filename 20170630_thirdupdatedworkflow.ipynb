{
 "cells": [
  {
   "cell_type": "markdown",
   "metadata": {},
   "source": [
    "# Updated Workfow"
   ]
  },
  {
   "cell_type": "markdown",
   "metadata": {},
   "source": [
    "Following from the draft workflow, I will now define several functions and generic scripts that will help segregate the input/output and the actual functions."
   ]
  },
  {
   "cell_type": "code",
   "execution_count": 1,
   "metadata": {
    "collapsed": true
   },
   "outputs": [],
   "source": [
    "from pybedtools import BedTool # Note this requires bedtools\n",
    "from glob import glob\n",
    "import os\n",
    "import pandas as pd\n",
    "import numpy as np\n",
    "import matplotlib.pyplot as plt\n",
    "import matplotlib.pylab as pylab\n",
    "\n",
    "%matplotlib inline"
   ]
  },
  {
   "cell_type": "code",
   "execution_count": 2,
   "metadata": {
    "scrolled": false
   },
   "outputs": [
    {
     "data": {
      "text/plain": [
       "'/home/work2017/Documents/Jamin'"
      ]
     },
     "execution_count": 2,
     "metadata": {},
     "output_type": "execute_result"
    }
   ],
   "source": [
    "# Ensure at top-level directory\n",
    "os.chdir(\"../\")\n",
    "os.getcwd()"
   ]
  },
  {
   "cell_type": "markdown",
   "metadata": {},
   "source": [
    "Current status of dir:\n",
    "\n",
    "```\n",
    ".\n",
    "├── data\n",
    "│   ├── preprocessed\n",
    "│   │   ├── filtered_bed\n",
    "│   │   │   ├── GSM628535_jurkat_gh2ax_lifted_sorted_filt.bed\n",
    "│   │   │   └── TCGA.BRCA.mutect.96983226-d92a-449d-8890-e1b210cee0fe.DR-6.0.somatic_sorted_filt.bed\n",
    "│   │   ├── filterlist\n",
    "│   │   │   └── filterlist_concat_sorted.bed\n",
    "│   │   ├── markers_lifted\n",
    "│   │   │   ├── GSM2572684_gH2Ax_I_lifted.bed\n",
    "│   │   │   ├── GSM2572684_gH2Ax_I_lifted.err\n",
    "│   │   │   ├── GSM2572684_gH2Ax_I_lifted_sorted.bed\n",
    "│   │   │   ├── GSM2572685_gH2Ax_U_lifted.bed\n",
    "│   │   │   ├── GSM2572685_gH2Ax_U_lifted.err\n",
    "│   │   │   ├── GSM2572685_gH2Ax_U_lifted_sorted.bed\n",
    "│   │   │   ├── GSM628531_cd4_h2ax_lifted.bed\n",
    "│   │   │   ├── GSM628531_cd4_h2ax_lifted.err\n",
    "│   │   │   ├── GSM628531_cd4_h2ax_lifted_sorted.bed\n",
    "│   │   │   ├── GSM628532_jurkat_h2ax_lifted.bed\n",
    "│   │   │   ├── GSM628532_jurkat_h2ax_lifted.err\n",
    "│   │   │   ├── GSM628532_jurkat_h2ax_lifted_sorted.bed\n",
    "│   │   │   ├── GSM628533_hl60_h2ax_lifted.bed\n",
    "│   │   │   ├── GSM628533_hl60_h2ax_lifted.err\n",
    "│   │   │   ├── GSM628533_hl60_h2ax_lifted_sorted.bed\n",
    "│   │   │   ├── GSM628534_cd4_rgh2ax_lifted.bed\n",
    "│   │   │   ├── GSM628534_cd4_rgh2ax_lifted.err\n",
    "│   │   │   ├── GSM628534_cd4_rgh2ax_lifted_sorted.bed\n",
    "│   │   │   ├── GSM628535_jurkat_gh2ax_lifted.bed\n",
    "│   │   │   ├── GSM628535_jurkat_gh2ax_lifted.err\n",
    "│   │   │   └── GSM628535_jurkat_gh2ax_lifted_sorted.bed\n",
    "│   │   ├── mutations_bed\n",
    "│   │   │   ├── *_I_lifted_sorted.bed\n",
    "│   │   │   ├── TCGA.BRCA.muse.6fcfff20-4993-4789-b27b-69d165130466.DR-6.0.somatic.bed\n",
    "│   │   │   ├── TCGA.BRCA.muse.6fcfff20-4993-4789-b27b-69d165130466.DR-6.0.somatic_sorted.bed\n",
    "│   │   │   ├── TCGA.BRCA.mutect.96983226-d92a-449d-8890-e1b210cee0fe.DR-6.0.somatic.bed\n",
    "│   │   │   ├── TCGA.BRCA.mutect.96983226-d92a-449d-8890-e1b210cee0fe.DR-6.0.somatic_sorted.bed\n",
    "│   │   │   ├── TCGA.BRCA.somaticsniper.8855730e-21ad-4711-9be2-b58bc337834e.DR-6.0.somatic.bed\n",
    "│   │   │   ├── TCGA.BRCA.somaticsniper.8855730e-21ad-4711-9be2-b58bc337834e.DR-6.0.somatic_sorted.bed\n",
    "│   │   │   ├── TCGA.BRCA.varscan.053e3955-5fbd-46d3-8a21-c3cde48ef9b4.DR-6.0.somatic.bed\n",
    "│   │   │   └── TCGA.BRCA.varscan.053e3955-5fbd-46d3-8a21-c3cde48ef9b4.DR-6.0.somatic_sorted.bed\n",
    "│   │   └── visualisation_temp\n",
    "│   │       ├── brca_mutect.txt\n",
    "│   │       └── jurkat_gh2ax_temp.txt\n",
    "│   ├── processed\n",
    "│   └── raw\n",
    "│       ├── biospecimen_data\n",
    "│       ├── blacklists\n",
    "│       │   ├── hg38.blacklist.bed\n",
    "│       │   └── hg38_rmsk.bed\n",
    "│       ├── clinical_data\n",
    "│       ├── liftOverchains\n",
    "│       │   ├── hg18ToHg38.over.chain\n",
    "│       │   └── hg19ToHg38.over.chain\n",
    "│       ├── markers\n",
    "│       │   ├── GSE25577\n",
    "│       │   │   ├── GSM628531_cd4_h2ax_1.bed\n",
    "│       │   │   ├── GSM628531_cd4_h2ax_2.bed\n",
    "│       │   │   ├── GSM628532_jurkat_h2ax_1.bed\n",
    "│       │   │   ├── GSM628532_jurkat_h2ax_2.bed\n",
    "│       │   │   ├── GSM628533_hl60_h2ax_1.bed\n",
    "│       │   │   ├── GSM628533_hl60_h2ax_2.bed\n",
    "│       │   │   ├── GSM628534_cd4_rgh2ax_1.bed\n",
    "│       │   │   ├── GSM628534_cd4_rgh2ax_2.bed\n",
    "│       │   │   └── GSM628535_jurkat_gh2ax.bed\n",
    "│       │   ├── GSE25577_concatenated\n",
    "│       │   │   ├── GSM628531_cd4_h2ax.bed\n",
    "│       │   │   ├── GSM628532_jurkat_h2ax.bed\n",
    "│       │   │   ├── GSM628533_hl60_h2ax.bed\n",
    "│       │   │   └── GSM628534_cd4_rgh2ax.bed\n",
    "│       │   └── GSE97589\n",
    "│       │       ├── GSM2572684_gH2Ax_I.bed\n",
    "│       │       ├── GSM2572684_gH2Ax_I.bw\n",
    "│       │       ├── GSM2572684_gH2Ax_I.wig\n",
    "│       │       ├── GSM2572685_gH2Ax_U.bed\n",
    "│       │       ├── GSM2572685_gH2Ax_U.bw\n",
    "│       │       └── GSM2572685_gH2Ax_U.wig\n",
    "│       ├── markers_other\n",
    "│       │   ├── GSM628530_cd4_h2a_1.bed\n",
    "│       │   ├── GSM628530_cd4_h2a_2.bed\n",
    "│       │   └── GSM628537_input_DNA.bed\n",
    "│       └── mutations\n",
    "│           ├── TCGA.BRCA.muse.6fcfff20-4993-4789-b27b-69d165130466.DR-6.0.somatic.maf\n",
    "│           ├── TCGA.BRCA.mutect.96983226-d92a-449d-8890-e1b210cee0fe.DR-6.0.somatic.maf\n",
    "│           ├── TCGA.BRCA.somaticsniper.8855730e-21ad-4711-9be2-b58bc337834e.DR-6.0.somatic.maf\n",
    "│           └── TCGA.BRCA.varscan.053e3955-5fbd-46d3-8a21-c3cde48ef9b4.DR-6.0.somatic.maf\n",
    "└── src\n",
    "    ├── 20170625_exploratory.ipynb\n",
    "    ├── 20170627_draftworkflow.ipynb\n",
    "    ├── 20170628_updatedworkflow.ipynb\n",
    "    └── 20170629_secondupdatedworkflow.ipynb\n",
    "\n",
    "20 directories, 69 files\n",
    "\n",
    "```"
   ]
  },
  {
   "cell_type": "markdown",
   "metadata": {},
   "source": [
    "# Preprocessing in Bash"
   ]
  },
  {
   "cell_type": "markdown",
   "metadata": {},
   "source": [
    "## Concatenating .bed files where necessary (GSE25577)\n",
    "\n",
    "Some of the raw files seem to be split into two. Just a quick script to concatenate the two files..."
   ]
  },
  {
   "cell_type": "code",
   "execution_count": 31,
   "metadata": {
    "collapsed": true
   },
   "outputs": [],
   "source": [
    "%%bash\n",
    "\n",
    "cd data/raw/markers/GSE25577\n",
    "\n",
    "destination=../GSE25577_concatenated/\n",
    "\n",
    "for filename in *1.bed;\n",
    "do\n",
    "    file_no_dir=${filename##*/}\n",
    "    file_new_name=${file_no_dir/_1.bed/.bed} \n",
    "    cp $filename ../GSE25577_concatenated/$file_new_name\n",
    "    cat ${filename/1.bed/2.bed} >> ../GSE25577_concatenated/$file_new_name\n",
    "done"
   ]
  },
  {
   "cell_type": "markdown",
   "metadata": {},
   "source": [
    "## Converting BigWig to .bed where necessary (GSE71447, GSE57426)"
   ]
  },
  {
   "cell_type": "markdown",
   "metadata": {},
   "source": [
    "Makes use of bigWigToBed from UCSC command line utilities, and wig2bed from BedOps (http://bedops.readthedocs.io/en/latest/content/reference/file-management/conversion/wig2bed.html)"
   ]
  },
  {
   "cell_type": "markdown",
   "metadata": {},
   "source": [
    "> Note to self -  recursively search directories for bigwig/wig files to combine the below...will make it more succinct."
   ]
  },
  {
   "cell_type": "markdown",
   "metadata": {},
   "source": [
    "GSE71447:"
   ]
  },
  {
   "cell_type": "code",
   "execution_count": 3,
   "metadata": {
    "collapsed": true
   },
   "outputs": [],
   "source": [
    "%%bash\n",
    "\n",
    "cd data/raw/markers/GSE71447/\n",
    "\n",
    "for filename in *.bigWig;\n",
    "do\n",
    "    bigWigToWig $filename ${filename/.bigWig/.wig}\n",
    "done\n",
    "\n",
    "for filename in *.wig;\n",
    "do\n",
    "    wig2bed --zero-indexed < $filename > ${filename/.wig/.bed}\n",
    "done"
   ]
  },
  {
   "cell_type": "markdown",
   "metadata": {},
   "source": [
    "GSE57426 (these are wig files, so I will not use the --zeroindexed parameter here...)"
   ]
  },
  {
   "cell_type": "code",
   "execution_count": 3,
   "metadata": {
    "collapsed": true
   },
   "outputs": [],
   "source": [
    "%%bash\n",
    "\n",
    "cd data/raw/markers/GSE57426/\n",
    "\n",
    "for filename in *.wig;\n",
    "do\n",
    "    wig2bed < $filename > ${filename/.wig/.bed}\n",
    "done"
   ]
  },
  {
   "cell_type": "markdown",
   "metadata": {},
   "source": [
    "## liftOver"
   ]
  },
  {
   "cell_type": "markdown",
   "metadata": {},
   "source": [
    "> NOTE: ensure to keep hg18 files and hg19 files separated..."
   ]
  },
  {
   "cell_type": "markdown",
   "metadata": {},
   "source": [
    "For GSE25577 (hg18 -> hg38): "
   ]
  },
  {
   "cell_type": "code",
   "execution_count": 32,
   "metadata": {},
   "outputs": [
    {
     "name": "stdout",
     "output_type": "stream",
     "text": [
      "/home/work2017/Documents/Jamin/data/raw/markers/GSE25577_concatenated\n"
     ]
    },
    {
     "name": "stderr",
     "output_type": "stream",
     "text": [
      "Reading liftover chains\n",
      "Mapping coordinates\n",
      "Reading liftover chains\n",
      "Mapping coordinates\n",
      "Reading liftover chains\n",
      "Mapping coordinates\n",
      "Reading liftover chains\n",
      "Mapping coordinates\n"
     ]
    }
   ],
   "source": [
    "%%bash\n",
    "\n",
    "\n",
    "# LIFTOVER FOR hg18 BED FILES -----------------------------------------------------------------------------\n",
    "cd data/raw/markers/GSE25577_concatenated\n",
    "pwd\n",
    "\n",
    "# PAY ATTENTION TO THE LINE DIRECTLY BELOW: 18 VS 19 VS 38\n",
    "dir_chain=../../liftOverchains/hg18ToHg38.over.chain\n",
    "dir_save=../../../preprocessed/markers_lifted/\n",
    "\n",
    "for filename in *.bed;\n",
    "do\n",
    "    liftOver $filename $dir_chain $dir_save${filename/.bed/_lifted.bed} $dir_save${filename/.bed/_lifted.err}\n",
    "done"
   ]
  },
  {
   "cell_type": "markdown",
   "metadata": {},
   "source": [
    "For GSE71447 (hg18 -> hg38)"
   ]
  },
  {
   "cell_type": "code",
   "execution_count": 4,
   "metadata": {},
   "outputs": [
    {
     "name": "stdout",
     "output_type": "stream",
     "text": [
      "/home/work2017/Documents/Jamin/data/raw/markers/GSE71447\n"
     ]
    },
    {
     "name": "stderr",
     "output_type": "stream",
     "text": [
      "Reading liftover chains\n",
      "Mapping coordinates\n",
      "Reading liftover chains\n",
      "Mapping coordinates\n"
     ]
    }
   ],
   "source": [
    "%%bash\n",
    "\n",
    "# LIFTOVER FOR hg18 BED FILES -----------------------------------------------------------------------------\n",
    "cd data/raw/markers/GSE71447\n",
    "pwd\n",
    "\n",
    "# PAY ATTENTION TO THE LINE DIRECTLY BELOW: 18 VS 19 VS 38\n",
    "dir_chain=../../liftOverchains/hg18ToHg38.over.chain\n",
    "dir_save=../../../preprocessed/markers_lifted/\n",
    "\n",
    "for filename in *.bed;\n",
    "do\n",
    "    liftOver $filename $dir_chain $dir_save${filename/.bed/_lifted.bed} $dir_save${filename/.bed/_lifted.err}\n",
    "done"
   ]
  },
  {
   "cell_type": "markdown",
   "metadata": {},
   "source": [
    "For GSE57426 (hg19 -> hg38)"
   ]
  },
  {
   "cell_type": "markdown",
   "metadata": {},
   "source": [
    "> This gave ALL errors. I don't know why at the moment, so I'm just going to skip this one for now."
   ]
  },
  {
   "cell_type": "code",
   "execution_count": 5,
   "metadata": {
    "scrolled": true
   },
   "outputs": [
    {
     "name": "stdout",
     "output_type": "stream",
     "text": [
      "Process is interrupted.\n"
     ]
    }
   ],
   "source": [
    "%%bash\n",
    "\n",
    "# LIFTOVER FOR hg18 BED FILES -----------------------------------------------------------------------------\n",
    "cd data/raw/markers/GSE57426\n",
    "pwd\n",
    "\n",
    "# PAY ATTENTION TO THE LINE DIRECTLY BELOW: 18 VS 19 VS 38\n",
    "dir_chain=../../liftOverchains/hg19ToHg38.over.chain\n",
    "dir_save=../../../preprocessed/markers_lifted/\n",
    "\n",
    "for filename in *.bed;\n",
    "do\n",
    "    liftOver $filename $dir_chain $dir_save${filename/.bed/_lifted.bed} $dir_save${filename/.bed/_lifted.err}\n",
    "done"
   ]
  },
  {
   "cell_type": "markdown",
   "metadata": {},
   "source": [
    "For the subtyped ER+/- BRCA mutations received from K. Mahmood (hg19->hg38). I've decided to convert between hg19 and hg38 to keep everything at the final stage consistent, even though some of the data is already hg19..."
   ]
  },
  {
   "cell_type": "code",
   "execution_count": 3,
   "metadata": {},
   "outputs": [
    {
     "name": "stdout",
     "output_type": "stream",
     "text": [
      "/home/work2017/Documents/Jamin/data/preprocessed/subtyped_mutations\n"
     ]
    },
    {
     "name": "stderr",
     "output_type": "stream",
     "text": [
      "Reading liftover chains\n",
      "Mapping coordinates\n",
      "Reading liftover chains\n",
      "Mapping coordinates\n"
     ]
    }
   ],
   "source": [
    "%%bash\n",
    "\n",
    "# LIFTOVER FOR hg19 BED FILES -----------------------------------------------------------------------------\n",
    "cd data/preprocessed/subtyped_mutations\n",
    "pwd\n",
    "\n",
    "# AGAIN, ATTENTION TO THE LINE DIRECTLY BELOW: 18 VS 19 VS 38\n",
    "dir_chain=../../raw/liftOverchains/hg19ToHg38.over.chain\n",
    "dir_save=../mutations_bed/\n",
    "\n",
    "for filename in *.bed;\n",
    "do\n",
    "    liftOver $filename $dir_chain $dir_save${filename/.bed/_lifted.bed} $dir_save${filename/.bed/_lifted.err}\n",
    "done"
   ]
  },
  {
   "cell_type": "markdown",
   "metadata": {},
   "source": [
    "> Somewhat worryingly, the error files for the mutation liftOvers are vastly larger than the actual output files themselves (e.g. error file 3.6MB vs output file 198kb...). The marker liftOvers were okay (error files was roughly 1MB vs output file up to a GB)."
   ]
  },
  {
   "cell_type": "markdown",
   "metadata": {},
   "source": [
    "## Subsetting .maf Based on Clinical/Biospecimen Features"
   ]
  },
  {
   "cell_type": "markdown",
   "metadata": {},
   "source": [
    "> Still to be done. The ER+/- mutations are from K. Mahmood above."
   ]
  },
  {
   "cell_type": "markdown",
   "metadata": {},
   "source": [
    "## Converting .maf to .bed"
   ]
  },
  {
   "cell_type": "code",
   "execution_count": 10,
   "metadata": {
    "collapsed": true
   },
   "outputs": [],
   "source": [
    "%%bash\n",
    "\n",
    "# Ensure data/ lies in your current directory\n",
    "cd data/raw/mutations/\n",
    "\n",
    "for filename in *.maf;\n",
    "do \n",
    "    cut -f 5-8 $filename \\\n",
    "    | awk 'NR >= 6 {print}' \\\n",
    "    | awk '$3 = $3 FS \".\" FS \".\"' \\\n",
    "    | sed s/\" \"/\"\\t\"/g \\\n",
    "    > ../../preprocessed/mutations_bed/${filename%.maf}.bed\n",
    "done"
   ]
  },
  {
   "cell_type": "markdown",
   "metadata": {},
   "source": [
    "## Sorting Preprocessed .bed files"
   ]
  },
  {
   "cell_type": "markdown",
   "metadata": {},
   "source": [
    "Since this is needed for the Fisher test, and appears to be more straightforward in bash, I'll do it here..."
   ]
  },
  {
   "cell_type": "markdown",
   "metadata": {},
   "source": [
    "> NB: Decided not to do it here, as it will need to be sorted again after filtering anyway..."
   ]
  },
  {
   "cell_type": "markdown",
   "metadata": {},
   "source": [
    "# Populating the Filter List"
   ]
  },
  {
   "cell_type": "markdown",
   "metadata": {},
   "source": [
    "hg38 RepeatMasker regions were downloaded from http://genome.ucsc.edu/cgi-bin/hgTables as a .bed file.\n",
    "\n",
    "This was concatenated with the hg38 blacklist obtained as described previously (20170627) and sorted to produce a full filter list."
   ]
  },
  {
   "cell_type": "code",
   "execution_count": 5,
   "metadata": {
    "collapsed": true
   },
   "outputs": [],
   "source": [
    "%%bash\n",
    "\n",
    "cd data/raw/blacklists\n",
    "\n",
    "destination=../../preprocessed/filterlist/filterlist_concat_sorted.bed\n",
    "\n",
    "cat *.bed | cut -f 1-3 | sort -k1,1 -k2,2n > $destination"
   ]
  },
  {
   "cell_type": "markdown",
   "metadata": {},
   "source": [
    "# Preliminary Visualisation"
   ]
  },
  {
   "cell_type": "markdown",
   "metadata": {},
   "source": [
    "Just a test on Jurkat gH2AX and Mutect..."
   ]
  },
  {
   "cell_type": "markdown",
   "metadata": {},
   "source": [
    "## Preprocessing"
   ]
  },
  {
   "cell_type": "markdown",
   "metadata": {},
   "source": [
    "First, filter the beds..."
   ]
  },
  {
   "cell_type": "code",
   "execution_count": 7,
   "metadata": {},
   "outputs": [
    {
     "data": {
      "text/plain": [
       "<BedTool(data/preprocessed/filtered_bed/TCGA.BRCA.mutect.96983226-d92a-449d-8890-e1b210cee0fe.DR-6.0.somatic_sorted_filt.bed)>"
      ]
     },
     "execution_count": 7,
     "metadata": {},
     "output_type": "execute_result"
    }
   ],
   "source": [
    "dir_filterlist = \"data/preprocessed/filterlist/filterlist_concat_sorted.bed\"\n",
    "\n",
    "dir_marker_bed = \"data/preprocessed/markers_lifted/\"\n",
    "name_marker_bed = \"GSM628535_jurkat_gh2ax_lifted_sorted.bed\"\n",
    "\n",
    "dir_mutations_bed = \"data/preprocessed/mutations_bed/\"\n",
    "name_mutations_bed = \"TCGA.BRCA.mutect.96983226-d92a-449d-8890-e1b210cee0fe.DR-6.0.somatic_sorted.bed\"\n",
    "\n",
    "dir_save = \"data/preprocessed/filtered_bed/\"\n",
    "\n",
    "filterlist = BedTool(dir_filterlist)\n",
    "marker_bed = BedTool(\"\".join([dir_marker_bed, name_marker_bed]))\n",
    "mutations_bed = BedTool(\"\".join([dir_mutations_bed, name_mutations_bed]))\n",
    "\n",
    "filtered_marker_bed = marker_bed.subtract(filterlist)\n",
    "filtered_mutations_bed = mutations_bed.subtract(filterlist)\n",
    "\n",
    "filtered_marker_bed.saveas(\"\".join([dir_save, name_marker_bed.replace(\".bed\", \"_filt.bed\")]))\n",
    "filtered_mutations_bed.saveas(\"\".join([dir_save, name_mutations_bed.replace(\".bed\", \"_filt.bed\")]))"
   ]
  },
  {
   "cell_type": "markdown",
   "metadata": {},
   "source": [
    "Then cut only the marks and mutations from chromosome 1 for now..."
   ]
  },
  {
   "cell_type": "code",
   "execution_count": 29,
   "metadata": {
    "collapsed": true
   },
   "outputs": [],
   "source": [
    "%%bash\n",
    "\n",
    "cd data/preprocessed/filtered_bed/\n",
    "\n",
    "marker_name=GSM628535_jurkat_gh2ax_lifted_sorted_filt.bed\n",
    "mutations_name=TCGA.BRCA.mutect.96983226-d92a-449d-8890-e1b210cee0fe.DR-6.0.somatic_sorted_filt.bed\n",
    "\n",
    "save_dir=../visualisation_temp/\n",
    "save_name_marker=jurkat_gh2ax_temp.txt\n",
    "save_name_mutations=brca_mutect.txt\n",
    "\n",
    "awk '$1 == \"chr1\" {print $2, $3}' $marker_name > $save_dir$save_name_marker\n",
    "awk '$1 == \"chr1\" {print $2, $3}' $mutations_name > $save_dir$save_name_mutations"
   ]
  },
  {
   "cell_type": "markdown",
   "metadata": {},
   "source": [
    "## Visualisation"
   ]
  },
  {
   "cell_type": "markdown",
   "metadata": {},
   "source": [
    "Import with numpy..."
   ]
  },
  {
   "cell_type": "code",
   "execution_count": 12,
   "metadata": {
    "collapsed": true
   },
   "outputs": [],
   "source": [
    "save_dir = \"data/preprocessed/visualisation_temp/\"\n",
    "name_marker = \"jurkat_gh2ax_temp.txt\"\n",
    "name_mutations = \"brca_mutect.txt\"\n",
    "\n",
    "raw_marker = np.loadtxt(\"\".join([save_dir, name_marker]))\n",
    "raw_mutations = np.loadtxt(\"\".join([save_dir, name_mutations]))"
   ]
  },
  {
   "cell_type": "markdown",
   "metadata": {},
   "source": [
    "Just checking that raw_mutations are all length zero (i.e. point mutations)..."
   ]
  },
  {
   "cell_type": "code",
   "execution_count": 13,
   "metadata": {},
   "outputs": [
    {
     "data": {
      "text/plain": [
       "0.0"
      ]
     },
     "execution_count": 13,
     "metadata": {},
     "output_type": "execute_result"
    }
   ],
   "source": [
    "max(raw_mutations[:, 0] - raw_mutations[:, 1])"
   ]
  },
  {
   "cell_type": "markdown",
   "metadata": {},
   "source": [
    "> TODO: Think of a more efficient way to do this...The below, understandably, takes a long time to run."
   ]
  },
  {
   "cell_type": "markdown",
   "metadata": {},
   "source": [
    "The below raises a memory error since it's all done at once rather than interating..."
   ]
  },
  {
   "cell_type": "code",
   "execution_count": null,
   "metadata": {
    "collapsed": true,
    "scrolled": true
   },
   "outputs": [],
   "source": [
    "raw_marker = raw_marker.astype(int)\n",
    "raw_mutations = raw_mutations.astype(int)\n",
    "\n",
    "num_rows = raw_marker.shape[0]\n",
    "num_pos = raw_marker.max * 0.001 # Only taking 0.1% of genome because of memory...\n",
    "\n",
    "marker_pos = np.zeros([1, num_pos-1])\n",
    "\n",
    "repeat_array = np.hstack((raw_marker[:, 0] - 1, \n",
    "                          raw_marker[:, 1] - raw_marker[:, 0],\n",
    "                          np.repeat(num_pos, num_rows).reshape([num_rows, 1]) - raw_marker[:, 1]\n",
    "                         ))\n",
    "\n",
    "marker_pos = np.repeat(np.tile([0, 1, 0], num_rows), repeat_array.flatten(), axis=0).reshape([num_rows, num_pos]).sum(axis=0)"
   ]
  },
  {
   "cell_type": "markdown",
   "metadata": {},
   "source": [
    "I don't know how long the one below would take to run if I didn't limit the proportion of the chromosome I read...it would take a while, at least half an hour for 10% and possibly about five to ten hours for 100% of a single chromosome."
   ]
  },
  {
   "cell_type": "code",
   "execution_count": 14,
   "metadata": {
    "collapsed": true
   },
   "outputs": [],
   "source": [
    "raw_marker = raw_marker.astype(int)\n",
    "raw_mutations = raw_mutations.astype(int)\n",
    "\n",
    "prop_to_read = 0.01 # limit due to memory\n",
    "\n",
    "num_rows = raw_marker.shape[0]\n",
    "num_pos = int(raw_marker.max() * prop_to_read)\n",
    "\n",
    "marker_pos = np.zeros([1, num_pos-1])\n",
    "\n",
    "for row in raw_marker:\n",
    "    num_start = row[0]\n",
    "    num_end = row[1]\n",
    "    if num_end < num_pos:\n",
    "        new_vals = np.hstack((np.repeat(0, num_start-1),\n",
    "                             np.repeat(1, num_end-num_start),\n",
    "                             np.repeat(0, num_pos-num_end)\n",
    "                            ))\n",
    "        marker_pos += new_vals.reshape(1, num_pos-1)\n",
    "    else:\n",
    "        break"
   ]
  },
  {
   "cell_type": "code",
   "execution_count": 15,
   "metadata": {},
   "outputs": [
    {
     "data": {
      "text/plain": [
       "22.0"
      ]
     },
     "execution_count": 15,
     "metadata": {},
     "output_type": "execute_result"
    }
   ],
   "source": [
    "marker_pos.max()"
   ]
  },
  {
   "cell_type": "code",
   "execution_count": 16,
   "metadata": {
    "collapsed": true
   },
   "outputs": [],
   "source": [
    "bin_width = 10000\n",
    "\n",
    "num_bins = num_pos // bin_width\n",
    "max_pos = num_bins * bin_width # There will be clipping at the end\n",
    "\n",
    "binned_markers = marker_pos[:, 0:max_pos].reshape([num_bins, bin_width]).sum(axis=1)"
   ]
  },
  {
   "cell_type": "code",
   "execution_count": 17,
   "metadata": {},
   "outputs": [
    {
     "data": {
      "text/plain": [
       "array([  0.00000000e+00,   2.80000000e+03,   0.00000000e+00,\n",
       "         0.00000000e+00,   0.00000000e+00,   2.23300000e+03,\n",
       "         1.23400000e+03,   2.00000000e+00,   1.04800000e+03,\n",
       "         2.00000000e+02,   3.57000000e+02,   0.00000000e+00,\n",
       "         0.00000000e+00,   0.00000000e+00,   0.00000000e+00,\n",
       "         0.00000000e+00,   0.00000000e+00,   0.00000000e+00,\n",
       "         0.00000000e+00,   0.00000000e+00,   0.00000000e+00,\n",
       "         0.00000000e+00,   0.00000000e+00,   0.00000000e+00,\n",
       "         0.00000000e+00,   0.00000000e+00,   7.76000000e+02,\n",
       "         0.00000000e+00,   5.58000000e+02,   0.00000000e+00,\n",
       "         0.00000000e+00,   0.00000000e+00,   0.00000000e+00,\n",
       "         0.00000000e+00,   0.00000000e+00,   0.00000000e+00,\n",
       "         0.00000000e+00,   0.00000000e+00,   0.00000000e+00,\n",
       "         0.00000000e+00,   0.00000000e+00,   0.00000000e+00,\n",
       "         0.00000000e+00,   0.00000000e+00,   0.00000000e+00,\n",
       "         0.00000000e+00,   0.00000000e+00,   0.00000000e+00,\n",
       "         0.00000000e+00,   2.00000000e+02,   0.00000000e+00,\n",
       "         0.00000000e+00,   0.00000000e+00,   0.00000000e+00,\n",
       "         0.00000000e+00,   0.00000000e+00,   0.00000000e+00,\n",
       "         0.00000000e+00,   0.00000000e+00,   0.00000000e+00,\n",
       "         8.96000000e+02,   0.00000000e+00,   1.09300000e+03,\n",
       "         3.30200000e+03,   2.00000000e+00,   0.00000000e+00,\n",
       "         1.40000000e+01,   0.00000000e+00,   0.00000000e+00,\n",
       "         0.00000000e+00,   2.00000000e+00,   8.20000000e+01,\n",
       "         1.60000000e+03,   2.00000000e+02,   4.50000000e+01,\n",
       "         0.00000000e+00,   1.17000000e+02,   4.36200000e+03,\n",
       "         4.58000000e+03,   5.13600000e+03,   1.21900000e+03,\n",
       "         1.34100000e+03,   1.07030000e+04,   3.68700000e+03,\n",
       "         3.43000000e+03,   4.28100000e+03,   4.91000000e+03,\n",
       "         8.03500000e+03,   3.64100000e+03,   2.91600000e+03,\n",
       "         1.31830000e+04,   1.83600000e+04,   2.60230000e+04,\n",
       "         2.14330000e+04,   2.70310000e+04,   2.05260000e+04,\n",
       "         2.90470000e+04,   2.42420000e+04,   1.25260000e+04,\n",
       "         1.71630000e+04,   2.36490000e+04,   1.59440000e+04,\n",
       "         2.57800000e+04,   1.84810000e+04,   2.91870000e+04,\n",
       "         2.36530000e+04,   2.15920000e+04,   1.78950000e+04,\n",
       "         2.66730000e+04,   9.18300000e+03,   2.86000000e+03,\n",
       "         1.17240000e+04,   2.86870000e+04,   9.24600000e+03,\n",
       "         1.32510000e+04,   2.04200000e+04,   2.37690000e+04,\n",
       "         1.29070000e+04,   1.28570000e+04,   9.54200000e+03,\n",
       "         2.38470000e+04,   2.43270000e+04,   2.05700000e+04,\n",
       "         3.07960000e+04,   2.21560000e+04,   1.87970000e+04,\n",
       "         1.03230000e+04,   2.63080000e+04,   1.68050000e+04,\n",
       "         3.87380000e+04,   4.76220000e+04,   2.18560000e+04,\n",
       "         1.20830000e+04,   4.48200000e+03,   1.03590000e+04,\n",
       "         7.00700000e+03,   1.22300000e+03,   7.26000000e+02,\n",
       "         2.00000000e+02,   4.28900000e+03,   2.06100000e+03,\n",
       "         4.25000000e+02,   2.04500000e+03,   2.16800000e+03,\n",
       "         1.51200000e+03,   1.78400000e+03,   6.00000000e+02,\n",
       "         1.47000000e+03,   2.05900000e+03,   9.97000000e+02,\n",
       "         1.72800000e+03,   1.37570000e+04,   1.47890000e+04,\n",
       "         2.72980000e+04,   2.21430000e+04,   1.77590000e+04,\n",
       "         1.15730000e+04,   1.04980000e+04,   1.44800000e+03,\n",
       "         1.41990000e+04,   1.52540000e+04,   2.07070000e+04,\n",
       "         3.08030000e+04,   8.28700000e+03,   8.29000000e+02,\n",
       "         4.10700000e+03,   8.31800000e+03,   1.42680000e+04,\n",
       "         4.46500000e+03,   5.91200000e+03,   5.12200000e+03,\n",
       "         6.90300000e+03,   2.93700000e+03,   5.61500000e+03,\n",
       "         2.98000000e+03,   2.09340000e+04,   8.09100000e+03,\n",
       "         1.33730000e+04,   2.09540000e+04,   8.73300000e+03,\n",
       "         3.67800000e+03,   5.89200000e+03,   6.70700000e+03,\n",
       "         2.57500000e+03,   3.59000000e+03,   5.19100000e+03,\n",
       "         5.62700000e+03,   4.97100000e+03,   4.19100000e+03,\n",
       "         2.42350000e+04,   1.48000000e+04,   2.08120000e+04,\n",
       "         2.00970000e+04,   4.29200000e+03,   1.64690000e+04,\n",
       "         7.56600000e+03,   1.02870000e+04,   1.52400000e+04,\n",
       "         8.43200000e+03,   1.64200000e+03,   4.36800000e+03,\n",
       "         3.32200000e+03,   1.41170000e+04,   9.14000000e+03,\n",
       "         1.65000000e+04,   1.02630000e+04,   1.11700000e+04,\n",
       "         1.25430000e+04,   1.27080000e+04,   1.83770000e+04,\n",
       "         1.27450000e+04,   9.45300000e+03,   1.27340000e+04,\n",
       "         1.35070000e+04,   6.89400000e+03,   5.34400000e+03,\n",
       "         9.44300000e+03,   1.74610000e+04,   1.95940000e+04,\n",
       "         3.15070000e+04,   2.56020000e+04,   2.75540000e+04,\n",
       "         2.39790000e+04,   3.14880000e+04,   2.03470000e+04,\n",
       "         1.75080000e+04,   9.32400000e+03,   3.20380000e+04,\n",
       "         1.53150000e+04,   2.43470000e+04,   3.24190000e+04,\n",
       "         4.06520000e+04,   2.79790000e+04,   3.11670000e+04,\n",
       "         2.47420000e+04,   2.27100000e+04,   4.36000000e+02,\n",
       "         2.17580000e+04,   1.60170000e+04,   2.12110000e+04,\n",
       "         2.48420000e+04,   2.84230000e+04,   8.68300000e+03,\n",
       "         1.54430000e+04,   1.70420000e+04,   2.06130000e+04,\n",
       "         2.14500000e+04,   1.99750000e+04])"
      ]
     },
     "execution_count": 17,
     "metadata": {},
     "output_type": "execute_result"
    }
   ],
   "source": [
    "binned_markers"
   ]
  },
  {
   "cell_type": "code",
   "execution_count": 23,
   "metadata": {
    "scrolled": true
   },
   "outputs": [
    {
     "data": {
      "image/png": "[encoded data removed]",
      "text/plain": [
       "<matplotlib.figure.Figure at 0x7f65a93c7940>"
      ]
     },
     "metadata": {},
     "output_type": "display_data"
    }
   ],
   "source": [
    "pylab.rcParams['figure.figsize'] = 20, 2\n",
    "\n",
    "fig, ax1 = plt.subplots(1, 1)\n",
    "im = ax1.imshow(binned_markers.reshape([1, num_bins]), extent=[0, num_bins*bin_width,\n",
    "                                                               0, num_bins*bin_width/20], cmap=\"gray\")\n",
    "ax1.set_xlabel(\"Position in Chromosome 1\")\n",
    "ax1.set_yticks([])\n",
    "ax1.set_title(\"1% of Chromosome 1, Density of gammaH2AX Jurkat with bins = 30kb, Mutations on Same Axes\")\n",
    "fig.colorbar(im, ax=ax1)\n",
    "\n",
    "subset_raw_mutations = raw_mutations[:, 0][raw_mutations[:, 0] <= max_pos]\n",
    "for point in subset_raw_mutations:\n",
    "    ax1.axvline(x=point, color=\"red\", linewidth=0.5)"
   ]
  },
  {
   "cell_type": "code",
   "execution_count": 26,
   "metadata": {},
   "outputs": [
    {
     "data": {
      "image/png": "[encoded data removed]",
      "text/plain": [
       "<matplotlib.figure.Figure at 0x7f65a9226f60>"
      ]
     },
     "metadata": {},
     "output_type": "display_data"
    }
   ],
   "source": [
    "pylab.rcParams['figure.figsize'] = 20, 3\n",
    "\n",
    "plt.plot(np.arange(num_bins)*bin_width, binned_markers)\n",
    "\n",
    "subset_raw_mutations = raw_mutations[:, 0][raw_mutations[:, 0] <= max_pos]\n",
    "for point in subset_raw_mutations:\n",
    "    plt.axvline(x=point, color=\"red\", linewidth=0.5)\n",
    "    \n",
    "plt.xlabel = \"Position in Chromosome 1, in 30kb Bins\"\n",
    "plt.ylabel = \"gammaH2AX Count\"\n",
    "plt.title = \"1% of Chromosome 1, Density of gammaH2AX Jurkat with bins = 30kb; Mutation Location as vlines\""
   ]
  },
  {
   "cell_type": "markdown",
   "metadata": {},
   "source": [
    "Hm. I'm not sure what to make of the above...there looks to be \"some\" relationship between the position of each, but this could very easily be due to a confounding factor...maybe there needs to be more filtering? As well, it's important to remember I could only plot 1% of a single chromosone (if going for any reasonable execution time)...I guess it was nice to at least attempt visualisation..."
   ]
  },
  {
   "cell_type": "markdown",
   "metadata": {},
   "source": [
    "# Intersection Function"
   ]
  },
  {
   "cell_type": "markdown",
   "metadata": {},
   "source": [
    "> Note that this incorporates the filter step within it as well."
   ]
  },
  {
   "cell_type": "code",
   "execution_count": 6,
   "metadata": {
    "collapsed": true
   },
   "outputs": [],
   "source": [
    "def bed_filter_and_intersect(marker_bed, mutations_bed):\n",
    "    # INPUTS:\n",
    "    # marker_bed: BedTool object of the coordinates of the marker\n",
    "    # mutations_bed: BedTool object of the coordinates of the mutations\n",
    "    # OUTPUTS:\n",
    "    # A tuple consisting of:\n",
    "    # - fisher_test: object representing the output from bedtools fisher test (print to see)\n",
    "    # CANCELLED - prop_intersection: % of marker_bed that intersected with mutations_bed\n",
    "    # CANCELLED - intersect_bed: BedTool object of the intersections\n",
    "    \n",
    "    # Function set variables ------------------------------------------------------------------\n",
    "    dir_filterlist = \"data/preprocessed/filterlist/\"\n",
    "    name_filterlist = \"filterlist_concat_sorted.bed\"\n",
    "    \n",
    "    window_size = 1000 # size of windows around the points for intersection, if using window\n",
    "    \n",
    "    # Filtering -------------------------------------------------------------------------------\n",
    "    \n",
    "    # Produce blacklist BedTool instance\n",
    "    filterlist = BedTool(\"\".join([dir_filterlist, name_filterlist]))\n",
    "    \n",
    "    # Filter by subtracting blacklist from the original beds\n",
    "    filtered_marker_bed = marker_bed.subtract(filterlist)\n",
    "    filtered_mutations_bed = mutations_bed.subtract(filterlist)\n",
    "    \n",
    "    # Sorting AGAIN...-------------------------------------------------------------------------\n",
    "    # NB: Decided not to do this actually, since it doesn't actually seem to work...\n",
    "    # In addition, currently not using Fisher Test since the sorting still needs work. I'm not\n",
    "    # entirely sure what's the problem at this stage, but there appears to be an error with \n",
    "    # some entries being identified as out of order.\n",
    "    #sorted_marker_bed = filtered_marker_bed.sort()\n",
    "    #sorted_mutations_bed = filtered_mutations_bed.sort()\n",
    "    \n",
    "    # Intersection ----------------------------------------------------------------------------\n",
    "    \n",
    "    # Intersection WITH WINDOW\n",
    "    # intersect_bed = filtered_marker.window(filtered_mutations_bed, w=window_size)\n",
    "    \n",
    "    # Intersection WITHOUT WINDOW\n",
    "    # Using sorted=True as these should have been presorted...docs say uses faster algorithm...\n",
    "    # intersect_bed = sorted_marker_bed.intersect(sorted_mutations_bed, sorted=True)\n",
    "    # intersect_bed = filtered_marker_bed.intersect(filtered_mutations_bed)\n",
    "    \n",
    "    # Statistics-------------------------------------------------------------------------------\n",
    "    \n",
    "    # Proportion of intersection\n",
    "    #num_intersection = intersect_bed.count()\n",
    "    #num_total = sorted_marker_bed.count()\n",
    "    #num_total_marker = filtered_marker_bed.count()\n",
    "    #num_total_mutations = filtered_mutations_bed.count()\n",
    "    #prop_intersection_marker = num_intersection / num_total_marker\n",
    "    #prop_intersection_mutations = num_intersection / num_total_mutations\n",
    "    \n",
    "    # For Fisher's exact test\n",
    "    # Sorting first as bedtools documentations mentions that this is required\n",
    "    # NOTE: seems that this is sorted such that chr12 comes before chr 2 - is this a problem? \n",
    "    # It seems that even the bedtools original would have done this too...\n",
    "    # NEVERMIND: for the moment, have sorted externally to this script\n",
    "    sorted_marker_bed = filtered_marker_bed.sort()\n",
    "    sorted_mutations_bed = filtered_mutations_bed.sort()\n",
    "    fisher_test = sorted_marker_bed.fisher(sorted_mutations_bed, genome=\"hg38\")\n",
    "    \n",
    "    # Output ----------------------------------------------------------------------------------\n",
    "    \n",
    "    # return (fisher_test, prop_intersection, num_intersection, num_total)\n",
    "    #return (\"NA\", prop_intersection_marker, prop_intersection_mutations, \n",
    "            #num_intersection, num_total_marker, num_total_mutations)\n",
    "    return (fisher_test, \"NA\")"
   ]
  },
  {
   "cell_type": "markdown",
   "metadata": {},
   "source": [
    "There are some questions regarding the intersection that I have:\n",
    "\n",
    "1. There is the possibility of using the window, but it appears this greatly increases the number of intersections. I wonder if the region of $\\gamma$-H2AX is sufficient to include that of the mutations - is the window there in case of random shifts?\n",
    "2. Does strandedness matter? I'm inclined to think not since it doesn't make sense to me how phosphorylated H2AX could be strand-selective, but there are both positive and negative strands in the bed file so I'm not entirely sure what that means...But then from visual inspection of the mutation data, they all seem positive...\n",
    "3. There are some statistical tests already implemented in BedTools that might be useful: Fisher exact test seems most relevant, but the Jaccard statistics may be useful too. http://bedtools.readthedocs.io/en/latest/content/tools/fisher.html. I feel that unless there is some reason not to, this would not be a bad idea at the moment to use (at least until a better can be found)\n",
    "4. See the sorting comment in the code above."
   ]
  },
  {
   "cell_type": "markdown",
   "metadata": {},
   "source": [
    "# Python Scripts"
   ]
  },
  {
   "cell_type": "markdown",
   "metadata": {
    "collapsed": true
   },
   "source": [
    "At this stage, we have done our preprocessing (producing a new set of BED files that can be used directly from Python with `pybedtools`, and need to stitch things together with the function created above.\n",
    "\n",
    "The data we have preprocessed should be stored in the directories `data/preprocessed/marks_lifted` and `data/preprocessed/mutations_bed`. "
   ]
  },
  {
   "cell_type": "markdown",
   "metadata": {},
   "source": [
    "> For now, I'm only going to use the Mutect-detected mutations since it drastically reduces the execution time..."
   ]
  },
  {
   "cell_type": "code",
   "execution_count": 7,
   "metadata": {
    "scrolled": false
   },
   "outputs": [
    {
     "ename": "TypeError",
     "evalue": "unhashable type: 'list'",
     "output_type": "error",
     "traceback": [
      "\u001b[0;31m---------------------------------------------------------------------------\u001b[0m",
      "\u001b[0;31mTypeError\u001b[0m                                 Traceback (most recent call last)",
      "\u001b[0;32m<ipython-input-7-e96777bd8854>\u001b[0m in \u001b[0;36m<module>\u001b[0;34m()\u001b[0m\n\u001b[1;32m      8\u001b[0m              \u001b[0;31m#\"num_intersection\", \"num_total_marker\", \"num_total_mutations\"]\u001b[0m\u001b[0;34m\u001b[0m\u001b[0;34m\u001b[0m\u001b[0m\n\u001b[1;32m      9\u001b[0m \u001b[0;34m\u001b[0m\u001b[0m\n\u001b[0;32m---> 10\u001b[0;31m \u001b[0magg_results\u001b[0m \u001b[0;34m=\u001b[0m \u001b[0mpd\u001b[0m\u001b[0;34m.\u001b[0m\u001b[0mDataFrame\u001b[0m\u001b[0;34m(\u001b[0m\u001b[0mcolumns\u001b[0m\u001b[0;34m=\u001b[0m\u001b[0mcol_names\u001b[0m\u001b[0;34m)\u001b[0m\u001b[0;34m\u001b[0m\u001b[0m\n\u001b[0m\u001b[1;32m     11\u001b[0m \u001b[0;34m\u001b[0m\u001b[0m\n\u001b[1;32m     12\u001b[0m \u001b[0;31m# As always, need to be wary of the nested for loop...\u001b[0m\u001b[0;34m\u001b[0m\u001b[0;34m\u001b[0m\u001b[0m\n",
      "\u001b[0;32m/home/work2017/anaconda3/lib/python3.6/site-packages/pandas/core/frame.py\u001b[0m in \u001b[0;36m__init__\u001b[0;34m(self, data, index, columns, dtype, copy)\u001b[0m\n\u001b[1;32m    273\u001b[0m                                  dtype=dtype, copy=copy)\n\u001b[1;32m    274\u001b[0m         \u001b[0;32melif\u001b[0m \u001b[0misinstance\u001b[0m\u001b[0;34m(\u001b[0m\u001b[0mdata\u001b[0m\u001b[0;34m,\u001b[0m \u001b[0mdict\u001b[0m\u001b[0;34m)\u001b[0m\u001b[0;34m:\u001b[0m\u001b[0;34m\u001b[0m\u001b[0m\n\u001b[0;32m--> 275\u001b[0;31m             \u001b[0mmgr\u001b[0m \u001b[0;34m=\u001b[0m \u001b[0mself\u001b[0m\u001b[0;34m.\u001b[0m\u001b[0m_init_dict\u001b[0m\u001b[0;34m(\u001b[0m\u001b[0mdata\u001b[0m\u001b[0;34m,\u001b[0m \u001b[0mindex\u001b[0m\u001b[0;34m,\u001b[0m \u001b[0mcolumns\u001b[0m\u001b[0;34m,\u001b[0m \u001b[0mdtype\u001b[0m\u001b[0;34m=\u001b[0m\u001b[0mdtype\u001b[0m\u001b[0;34m)\u001b[0m\u001b[0;34m\u001b[0m\u001b[0m\n\u001b[0m\u001b[1;32m    276\u001b[0m         \u001b[0;32melif\u001b[0m \u001b[0misinstance\u001b[0m\u001b[0;34m(\u001b[0m\u001b[0mdata\u001b[0m\u001b[0;34m,\u001b[0m \u001b[0mma\u001b[0m\u001b[0;34m.\u001b[0m\u001b[0mMaskedArray\u001b[0m\u001b[0;34m)\u001b[0m\u001b[0;34m:\u001b[0m\u001b[0;34m\u001b[0m\u001b[0m\n\u001b[1;32m    277\u001b[0m             \u001b[0;32mimport\u001b[0m \u001b[0mnumpy\u001b[0m\u001b[0;34m.\u001b[0m\u001b[0mma\u001b[0m\u001b[0;34m.\u001b[0m\u001b[0mmrecords\u001b[0m \u001b[0;32mas\u001b[0m \u001b[0mmrecords\u001b[0m\u001b[0;34m\u001b[0m\u001b[0m\n",
      "\u001b[0;32m/home/work2017/anaconda3/lib/python3.6/site-packages/pandas/core/frame.py\u001b[0m in \u001b[0;36m_init_dict\u001b[0;34m(self, data, index, columns, dtype)\u001b[0m\n\u001b[1;32m    382\u001b[0m             \u001b[0mdata_names\u001b[0m \u001b[0;34m=\u001b[0m \u001b[0;34m[\u001b[0m\u001b[0;34m]\u001b[0m\u001b[0;34m\u001b[0m\u001b[0m\n\u001b[1;32m    383\u001b[0m             \u001b[0;32mfor\u001b[0m \u001b[0mk\u001b[0m \u001b[0;32min\u001b[0m \u001b[0mcolumns\u001b[0m\u001b[0;34m:\u001b[0m\u001b[0;34m\u001b[0m\u001b[0m\n\u001b[0;32m--> 384\u001b[0;31m                 \u001b[0;32mif\u001b[0m \u001b[0mk\u001b[0m \u001b[0;32mnot\u001b[0m \u001b[0;32min\u001b[0m \u001b[0mdata\u001b[0m\u001b[0;34m:\u001b[0m\u001b[0;34m\u001b[0m\u001b[0m\n\u001b[0m\u001b[1;32m    385\u001b[0m                     \u001b[0;31m# no obvious \"empty\" int column\u001b[0m\u001b[0;34m\u001b[0m\u001b[0;34m\u001b[0m\u001b[0m\n\u001b[1;32m    386\u001b[0m                     if dtype is not None and issubclass(dtype.type,\n",
      "\u001b[0;31mTypeError\u001b[0m: unhashable type: 'list'"
     ]
    }
   ],
   "source": [
    "# INPUT/OUTPUT\n",
    "\n",
    "dir_markers = \"data/preprocessed/markers_lifted/\"\n",
    "dir_mutations = \"data/preprocessed/mutations_bed/\"\n",
    "\n",
    "col_names = [\"marker_file\", \"mutation_file\", \"fisher_stat\", \"fisher_twotail\"], \n",
    "             #\"prop_intersection_marker\", \"prop_intersection_mutations\",\n",
    "             #\"num_intersection\", \"num_total_marker\", \"num_total_mutations\"]\n",
    "\n",
    "agg_results = pd.DataFrame(columns=col_names)\n",
    "\n",
    "# As always, need to be wary of the nested for loop...\n",
    "for file_marker in glob(\"\".join([dir_markers, \"*.bed\"])):\n",
    "    for file_mutations in glob(\"\".join([dir_mutations, \"*.bed\"])):\n",
    "        print(file_mutations)\n",
    "        bed_marker = BedTool(file_marker)\n",
    "        bed_mutations = BedTool(file_mutations)\n",
    "        results = bed_filter_and_intersect(bed_marker, bed_mutations)\n",
    "        \n",
    "        filename_marker = file_marker.replace(dir_markers, \"\")\n",
    "        filename_mutations = file_mutations.replace(dir_mutations, \"\")\n",
    "        \n",
    "        # If Fisher is included in results\n",
    "        data_entry = [[filename_marker, filename_mutations, results[0], results[0].two_tail]]\n",
    "                       #results[1], results[2], results[3]]]\n",
    "        \n",
    "        # If no Fisher\n",
    "        #data_entry = [[filename_marker, filename_mutations, \"NA\", \"NA\",\n",
    "        #               results[1], results[2], results[3], results[4], results[5]]]\n",
    "        \n",
    "        print(data_entry)\n",
    "        new_row = pd.DataFrame(data_entry, columns=col_names)\n",
    "        agg_results = agg_results.append(new_row)"
   ]
  },
  {
   "cell_type": "code",
   "execution_count": null,
   "metadata": {
    "collapsed": true,
    "scrolled": true
   },
   "outputs": [],
   "source": [
    "print(agg_results)"
   ]
  }
 ],
 "metadata": {
  "kernelspec": {
   "display_name": "Python 3",
   "language": "python",
   "name": "python3"
  },
  "language_info": {
   "codemirror_mode": {
    "name": "ipython",
    "version": 3
   },
   "file_extension": ".py",
   "mimetype": "text/x-python",
   "name": "python",
   "nbconvert_exporter": "python",
   "pygments_lexer": "ipython3",
   "version": "3.6.1"
  }
 },
 "nbformat": 4,
 "nbformat_minor": 2
}
